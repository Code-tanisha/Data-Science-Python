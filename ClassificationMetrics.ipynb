{
  "nbformat": 4,
  "nbformat_minor": 0,
  "metadata": {
    "colab": {
      "name": "ClassificationMetrics.ipynb",
      "provenance": [],
      "authorship_tag": "ABX9TyN599M0rrnYlnAb0UHqwMLz",
      "include_colab_link": true
    },
    "kernelspec": {
      "name": "python3",
      "display_name": "Python 3"
    }
  },
  "cells": [
    {
      "cell_type": "markdown",
      "metadata": {
        "id": "view-in-github",
        "colab_type": "text"
      },
      "source": [
        "<a href=\"https://colab.research.google.com/github/Tanisha2910/Data-Science-Python/blob/master/ClassificationMetrics.ipynb\" target=\"_parent\"><img src=\"https://colab.research.google.com/assets/colab-badge.svg\" alt=\"Open In Colab\"/></a>"
      ]
    },
    {
      "cell_type": "markdown",
      "metadata": {
        "id": "MdwQR3F1Knua",
        "colab_type": "text"
      },
      "source": [
        "**HOW TO USE CLASSIFICATION METRICS IN PYTHON**"
      ]
    },
    {
      "cell_type": "code",
      "metadata": {
        "id": "g1zD7VehKu2z",
        "colab_type": "code",
        "colab": {}
      },
      "source": [
        "# Load libraries\n",
        "from sklearn import datasets\n",
        "from sklearn import tree, model_selection, metrics\n",
        "from sklearn.model_selection import train_test_split\n",
        "import matplotlib.pyplot as plt"
      ],
      "execution_count": 0,
      "outputs": []
    },
    {
      "cell_type": "code",
      "metadata": {
        "id": "joE9g8wYLO-i",
        "colab_type": "code",
        "colab": {
          "base_uri": "https://localhost:8080/",
          "height": 71
        },
        "outputId": "d4b7c362-621e-470a-a24b-3db7b6b4ef49"
      },
      "source": [
        "# Loading the datasets\n",
        "dataset = datasets.load_breast_cancer()\n",
        "X = dataset.data\n",
        "y = dataset.target\n",
        "X_train, X_test, y_train, y_test = train_test_split(X, y, test_size = 0.25)\n",
        "kfold = model_selection.KFold(n_splits=10, random_state=40)\n",
        "# Fit a tree.Classifier() model to the data\n",
        "model = tree.DecisionTreeClassifier()"
      ],
      "execution_count": 4,
      "outputs": [
        {
          "output_type": "stream",
          "text": [
            "/usr/local/lib/python3.6/dist-packages/sklearn/model_selection/_split.py:296: FutureWarning: Setting a random_state has no effect since shuffle is False. This will raise an error in 0.24. You should leave random_state to its default (None), or set shuffle=True.\n",
            "  FutureWarning\n"
          ],
          "name": "stderr"
        }
      ]
    },
    {
      "cell_type": "code",
      "metadata": {
        "id": "BiXoE6wDMWFF",
        "colab_type": "code",
        "colab": {
          "base_uri": "https://localhost:8080/",
          "height": 51
        },
        "outputId": "3884d130-797f-45ae-b1bb-2d43786393c6"
      },
      "source": [
        "# METRICS = Accuracy\n",
        "scoring = 'accuracy'\n",
        "results = model_selection.cross_val_score(model, X_train, y_train, cv = kfold, scoring = scoring)\n",
        "print(\"Accuracy :\", results.mean())\n",
        "print(\"Standard Deviation: \", results.std())"
      ],
      "execution_count": 8,
      "outputs": [
        {
          "output_type": "stream",
          "text": [
            "Accuracy : 0.9342746400885936\n",
            "Standard Deviation:  0.037293951662093885\n"
          ],
          "name": "stdout"
        }
      ]
    },
    {
      "cell_type": "code",
      "metadata": {
        "id": "-rGPlqTFNZem",
        "colab_type": "code",
        "colab": {
          "base_uri": "https://localhost:8080/",
          "height": 51
        },
        "outputId": "de9e3900-0170-428b-e02d-fe72b377e514"
      },
      "source": [
        "# METRICS = Logarithmic Loss\n",
        "scoring = 'neg_log_loss'\n",
        "results = model_selection.cross_val_score(model, X_train, y_train, cv = kfold, scoring = scoring)\n",
        "print(\"Accuracy :\", results.mean())\n",
        "print(\"Standard Deviation: \", results.std())\n"
      ],
      "execution_count": 10,
      "outputs": [
        {
          "output_type": "stream",
          "text": [
            "Accuracy : -2.18595204770012\n",
            "Standard Deviation:  1.345193176481707\n"
          ],
          "name": "stdout"
        }
      ]
    },
    {
      "cell_type": "code",
      "metadata": {
        "id": "agB_xg8qONKJ",
        "colab_type": "code",
        "colab": {
          "base_uri": "https://localhost:8080/",
          "height": 51
        },
        "outputId": "540b0712-c460-4949-b94c-d9f19ead121b"
      },
      "source": [
        "# Accuracy = Area under ROC Curve\n",
        "scoring = 'roc_auc'\n",
        "results = model_selection.cross_val_score(model, X_train, y_train, cv = kfold, scoring = scoring)\n",
        "print(\"AUC :\", results.mean())\n",
        "print(\"Standard deviation\", results.std())"
      ],
      "execution_count": 11,
      "outputs": [
        {
          "output_type": "stream",
          "text": [
            "AUC : 0.9250485388557209\n",
            "Standard deviation 0.04758655331206197\n"
          ],
          "name": "stdout"
        }
      ]
    },
    {
      "cell_type": "code",
      "metadata": {
        "id": "12yaV13OPZyk",
        "colab_type": "code",
        "colab": {}
      },
      "source": [
        "# Make predictions with fitted model\n",
        "model.fit(X_train, y_train)\n",
        "expected_y = y_test\n",
        "predicted_y = model.predict(X_test)\n"
      ],
      "execution_count": 0,
      "outputs": []
    },
    {
      "cell_type": "code",
      "metadata": {
        "id": "5K0BMDZcPily",
        "colab_type": "code",
        "colab": {
          "base_uri": "https://localhost:8080/",
          "height": 221
        },
        "outputId": "079de0db-cce5-444d-a7e6-022b1d893fc4"
      },
      "source": [
        "# Summarize the fit of the model\n",
        "print('tree.DecisionTreeClassifier():')\n",
        "print(metrics.classification_report(expected_y, predicted_y, target_names = dataset.target_names))\n",
        "print(metrics.confusion_matrix(expected_y, predicted_y))"
      ],
      "execution_count": 14,
      "outputs": [
        {
          "output_type": "stream",
          "text": [
            "tree.DecisionTreeClassifier():\n",
            "              precision    recall  f1-score   support\n",
            "\n",
            "   malignant       0.92      0.89      0.91        55\n",
            "      benign       0.93      0.95      0.94        88\n",
            "\n",
            "    accuracy                           0.93       143\n",
            "   macro avg       0.93      0.92      0.93       143\n",
            "weighted avg       0.93      0.93      0.93       143\n",
            "\n",
            "[[49  6]\n",
            " [ 4 84]]\n"
          ],
          "name": "stdout"
        }
      ]
    }
  ]
}