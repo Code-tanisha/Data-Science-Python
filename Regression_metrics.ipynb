{
  "nbformat": 4,
  "nbformat_minor": 0,
  "metadata": {
    "colab": {
      "name": "Regression metrics.ipynb",
      "provenance": [],
      "authorship_tag": "ABX9TyP60TzsTLAQwsTKBQ47FecN",
      "include_colab_link": true
    },
    "kernelspec": {
      "name": "python3",
      "display_name": "Python 3"
    }
  },
  "cells": [
    {
      "cell_type": "markdown",
      "metadata": {
        "id": "view-in-github",
        "colab_type": "text"
      },
      "source": [
        "<a href=\"https://colab.research.google.com/github/Tanisha2910/Data-Science-Python/blob/master/Regression_metrics.ipynb\" target=\"_parent\"><img src=\"https://colab.research.google.com/assets/colab-badge.svg\" alt=\"Open In Colab\"/></a>"
      ]
    },
    {
      "cell_type": "markdown",
      "metadata": {
        "id": "XIgao_lJflPB",
        "colab_type": "text"
      },
      "source": [
        "**HOW TO USE REGRESSION METRICS **"
      ]
    },
    {
      "cell_type": "code",
      "metadata": {
        "id": "Q5iRhyzHhDTX",
        "colab_type": "code",
        "colab": {}
      },
      "source": [
        "# Load libraries\n",
        "from sklearn import datasets\n",
        "from sklearn import tree, metrics, model_selection\n",
        "from sklearn.model_selection import train_test_split\n",
        "import matplotlib.pyplot as plt"
      ],
      "execution_count": 0,
      "outputs": []
    },
    {
      "cell_type": "code",
      "metadata": {
        "id": "BR72MwaQnQ3W",
        "colab_type": "code",
        "outputId": "5198aaf4-e3c7-4e4a-a31d-3613839fa96b",
        "colab": {
          "base_uri": "https://localhost:8080/",
          "height": 71
        }
      },
      "source": [
        "# Load the iris dataset\n",
        "dataset = datasets.load_boston()\n",
        "X = dataset.data\n",
        "y = dataset.target\n",
        "X_train, X_test, y_train, y_test = train_test_split(X, y, test_size = 0.25)\n",
        "kfold = model_selection.KFold(n_splits=10, random_state=40)\n",
        "# Fit a decision tree classifier model into the data\n",
        "model = tree.DecisionTreeRegressor()"
      ],
      "execution_count": 0,
      "outputs": [
        {
          "output_type": "stream",
          "text": [
            "/usr/local/lib/python3.6/dist-packages/sklearn/model_selection/_split.py:296: FutureWarning: Setting a random_state has no effect since shuffle is False. This will raise an error in 0.24. You should leave random_state to its default (None), or set shuffle=True.\n",
            "  FutureWarning\n"
          ],
          "name": "stderr"
        }
      ]
    },
    {
      "cell_type": "code",
      "metadata": {
        "id": "x1w5y51gpkLg",
        "colab_type": "code",
        "outputId": "5c369de6-a944-4324-e458-760f232f0875",
        "colab": {
          "base_uri": "https://localhost:8080/",
          "height": 51
        }
      },
      "source": [
        "# metrics -> Mean absolute error\n",
        "scoring = 'neg_mean_absolute_error'\n",
        "results = model_selection.cross_val_score(model, X_train, y_train, cv = kfold, scoring=scoring)\n",
        "print(\"Mean Absolute error :\", results.mean())\n",
        "print(\"Standard Deviation : \", results.std())"
      ],
      "execution_count": 0,
      "outputs": [
        {
          "output_type": "stream",
          "text": [
            "Mean Absolute error : -3.4530938833570417\n",
            "Standard Deviation :  0.41556656182925916\n"
          ],
          "name": "stdout"
        }
      ]
    },
    {
      "cell_type": "code",
      "metadata": {
        "id": "zQkaGllhqjT_",
        "colab_type": "code",
        "outputId": "b9b6e184-988b-4339-8d27-e72c59d2d076",
        "colab": {
          "base_uri": "https://localhost:8080/",
          "height": 51
        }
      },
      "source": [
        "# metrics -> mean squared error\n",
        "scoring = 'neg_mean_squared_error'\n",
        "results = model_selection.cross_val_score(model, X_train, y_train, cv = kfold, scoring=scoring)\n",
        "print(\"Mean Squared error : \", results.mean())\n",
        "print(\"Standard Deviation : \", results.std())"
      ],
      "execution_count": 0,
      "outputs": [
        {
          "output_type": "stream",
          "text": [
            "Mean Squared error :  -26.784096728307254\n",
            "Standard Deviation :  10.792132054518046\n"
          ],
          "name": "stdout"
        }
      ]
    },
    {
      "cell_type": "code",
      "metadata": {
        "id": "RNZ5nC1Ur_CA",
        "colab_type": "code",
        "outputId": "96653501-c6a3-4657-e5b3-284f11e9cabb",
        "colab": {
          "base_uri": "https://localhost:8080/",
          "height": 51
        }
      },
      "source": [
        "# Metrics -> rsquared\n",
        "scoring = 'r2'\n",
        "results = model_selection.cross_val_score(model, X_train, y_train, cv = kfold, scoring=scoring)\n",
        "print(\" rsquared :\", results.mean())\n",
        "print(\"Standard Deviation:\", results.std)"
      ],
      "execution_count": 0,
      "outputs": [
        {
          "output_type": "stream",
          "text": [
            " rsquared : 0.6276808726252643\n",
            "Standard Deviation: <built-in method std of numpy.ndarray object at 0x7f9097b66b70>\n"
          ],
          "name": "stdout"
        }
      ]
    },
    {
      "cell_type": "code",
      "metadata": {
        "id": "dFW7YCRmshwd",
        "colab_type": "code",
        "colab": {}
      },
      "source": [
        ""
      ],
      "execution_count": 0,
      "outputs": []
    }
  ]
}