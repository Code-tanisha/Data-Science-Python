{
  "nbformat": 4,
  "nbformat_minor": 0,
  "metadata": {
    "colab": {
      "name": "Queue Data Structure.ipynb",
      "provenance": [],
      "authorship_tag": "ABX9TyMXMJ5OVQW8aa4Skup3gMj2",
      "include_colab_link": true
    },
    "kernelspec": {
      "name": "python3",
      "display_name": "Python 3"
    }
  },
  "cells": [
    {
      "cell_type": "markdown",
      "metadata": {
        "id": "view-in-github",
        "colab_type": "text"
      },
      "source": [
        "<a href=\"https://colab.research.google.com/github/Code-tanisha/Data-Science-Python/blob/master/Queue_Data_Structure.ipynb\" target=\"_parent\"><img src=\"https://colab.research.google.com/assets/colab-badge.svg\" alt=\"Open In Colab\"/></a>"
      ]
    },
    {
      "cell_type": "code",
      "metadata": {
        "id": "dt3YlXtQeuLq",
        "colab": {
          "base_uri": "https://localhost:8080/"
        },
        "outputId": "679dd48d-9bbc-4af0-fabf-b5c827bb47a4"
      },
      "source": [
        "wmt_stock_price_queue = []    #here we have created a list of walmart stock prices\r\n",
        "wmt_stock_price_queue.insert(0, 131.10)\r\n",
        "wmt_stock_price_queue.insert(1, 134.67)\r\n",
        "wmt_stock_price_queue.insert(2, 150.5)\r\n",
        "wmt_stock_price_queue"
      ],
      "execution_count": 1,
      "outputs": [
        {
          "output_type": "execute_result",
          "data": {
            "text/plain": [
              "[131.1, 134.67, 150.5]"
            ]
          },
          "metadata": {
            "tags": []
          },
          "execution_count": 1
        }
      ]
    },
    {
      "cell_type": "code",
      "metadata": {
        "colab": {
          "base_uri": "https://localhost:8080/"
        },
        "id": "mxJgyGoswzUd",
        "outputId": "bfde6e6d-1cb3-4eed-deec-8878d09995f0"
      },
      "source": [
        "wmt_stock_price_queue.pop()"
      ],
      "execution_count": 3,
      "outputs": [
        {
          "output_type": "execute_result",
          "data": {
            "text/plain": [
              "134.67"
            ]
          },
          "metadata": {
            "tags": []
          },
          "execution_count": 3
        }
      ]
    },
    {
      "cell_type": "code",
      "metadata": {
        "colab": {
          "base_uri": "https://localhost:8080/"
        },
        "id": "Q5k6s_X-w3Oz",
        "outputId": "bf6f3b26-3fbb-45ec-e467-483f045ca6cc"
      },
      "source": [
        "wmt_stock_price_queue"
      ],
      "execution_count": 4,
      "outputs": [
        {
          "output_type": "execute_result",
          "data": {
            "text/plain": [
              "[131.1]"
            ]
          },
          "metadata": {
            "tags": []
          },
          "execution_count": 4
        }
      ]
    },
    {
      "cell_type": "markdown",
      "metadata": {
        "id": "ENaaHRPvxQS7"
      },
      "source": [
        "when we use list we can face certain issues such as when u are allocating new elements and if it exists the capacity it will have to allocate new memory area and then it will have to copy all those elements.\r\n",
        "\r\n",
        "We can use other approach such as using deque from collections module.\r\n",
        "\r\n",
        "deque is double ended queue it is very flexible. it can be used as both stack and a queue\r\n"
      ]
    },
    {
      "cell_type": "code",
      "metadata": {
        "id": "zTrnxniix8to"
      },
      "source": [
        "from collections import deque\r\n",
        "#Below i am creating a class and there is a class object call buffer which is an instance of deque\r\n",
        "class Queue:\r\n",
        "  def __init__(self):\r\n",
        "    self.buffer = deque()\r\n",
        "# Queue will have 2 methods:-enqueue and dequeue.\r\n",
        "# 1. enqueue is placing an element in the queue. Like i am standing in the queue to buy tickets so i will buy tickets and then will be out of the queue\r\n",
        "# 2. dequeue is i brought my tckets so i will be out of the queue\r\n",
        "  def enqueue(self, val):\r\n",
        "    self.buffer.appendleft(val)\r\n",
        "  def dequeue(self):\r\n",
        "    return self.buffer.pop()\r\n",
        "  def isempty(self):\r\n",
        "    return len(self.buffer) == 0\r\n",
        "  def size(self):\r\n",
        "    return len(self.buffer)\r\n"
      ],
      "execution_count": 17,
      "outputs": []
    },
    {
      "cell_type": "code",
      "metadata": {
        "id": "oZTKy7HqrrJs"
      },
      "source": [
        "# below we are goin to create a queue using queue object. and we have inserted couple of dictionary elements which represents walmart stock price\r\n",
        "pd = Queue()\r\n",
        "pd.enqueue({\r\n",
        "    'company' : 'Wal Mart',\r\n",
        "    'timestamp': '15 apr, 11:01AM',  # these are the stock price.\r\n",
        "    'price' : 131.10 \r\n",
        "})\r\n",
        "pd.enqueue({\r\n",
        "    'company' : 'Wal Mart',\r\n",
        "    'timestamp': '15 apr, 11:02AM',  # these are the stock price.\r\n",
        "    'price' : 134.10 \r\n",
        "})\r\n",
        "pd.enqueue({\r\n",
        "    'company' : 'Wal Mart',\r\n",
        "    'timestamp': '15 apr, 11:03AM',  # these are the stock price.\r\n",
        "    'price' : 138.10 \r\n",
        "})\r\n"
      ],
      "execution_count": 18,
      "outputs": []
    },
    {
      "cell_type": "code",
      "metadata": {
        "colab": {
          "base_uri": "https://localhost:8080/"
        },
        "id": "-OWurS8Wt4EJ",
        "outputId": "8f45d44b-3538-4354-9ad7-5c2e83f886c6"
      },
      "source": [
        "pd.buffer"
      ],
      "execution_count": 19,
      "outputs": [
        {
          "output_type": "execute_result",
          "data": {
            "text/plain": [
              "deque([{'company': 'Wal Mart', 'price': 138.1, 'timestamp': '15 apr, 11:03AM'},\n",
              "       {'company': 'Wal Mart', 'price': 134.1, 'timestamp': '15 apr, 11:02AM'},\n",
              "       {'company': 'Wal Mart',\n",
              "        'price': 131.1,\n",
              "        'timestamp': '15 apr, 11:01AM'}])"
            ]
          },
          "metadata": {
            "tags": []
          },
          "execution_count": 19
        }
      ]
    },
    {
      "cell_type": "code",
      "metadata": {
        "colab": {
          "base_uri": "https://localhost:8080/"
        },
        "id": "Fypd0WTY4fk2",
        "outputId": "b84bf8e5-84a8-4647-8ff3-0a294e73336b"
      },
      "source": [
        "pd.size()"
      ],
      "execution_count": 20,
      "outputs": [
        {
          "output_type": "execute_result",
          "data": {
            "text/plain": [
              "3"
            ]
          },
          "metadata": {
            "tags": []
          },
          "execution_count": 20
        }
      ]
    },
    {
      "cell_type": "code",
      "metadata": {
        "colab": {
          "base_uri": "https://localhost:8080/"
        },
        "id": "FoeY6E1CuCiM",
        "outputId": "bc88d104-9747-48e4-9bf9-67a3a199202f"
      },
      "source": [
        "pd.dequeue()"
      ],
      "execution_count": 21,
      "outputs": [
        {
          "output_type": "execute_result",
          "data": {
            "text/plain": [
              "{'company': 'Wal Mart', 'price': 131.1, 'timestamp': '15 apr, 11:01AM'}"
            ]
          },
          "metadata": {
            "tags": []
          },
          "execution_count": 21
        }
      ]
    },
    {
      "cell_type": "code",
      "metadata": {
        "colab": {
          "base_uri": "https://localhost:8080/"
        },
        "id": "4dgEw7ONuPrN",
        "outputId": "992c1491-a9cf-4dc5-ad80-b07c9b8ce1b5"
      },
      "source": [
        "pd.buffer"
      ],
      "execution_count": 22,
      "outputs": [
        {
          "output_type": "execute_result",
          "data": {
            "text/plain": [
              "deque([{'company': 'Wal Mart', 'price': 138.1, 'timestamp': '15 apr, 11:03AM'},\n",
              "       {'company': 'Wal Mart',\n",
              "        'price': 134.1,\n",
              "        'timestamp': '15 apr, 11:02AM'}])"
            ]
          },
          "metadata": {
            "tags": []
          },
          "execution_count": 22
        }
      ]
    },
    {
      "cell_type": "code",
      "metadata": {
        "colab": {
          "base_uri": "https://localhost:8080/"
        },
        "id": "cDIxzMv74ee6",
        "outputId": "333828ea-4e40-4b65-ff83-c586a7728aab"
      },
      "source": [
        "pd.size()"
      ],
      "execution_count": 23,
      "outputs": [
        {
          "output_type": "execute_result",
          "data": {
            "text/plain": [
              "2"
            ]
          },
          "metadata": {
            "tags": []
          },
          "execution_count": 23
        }
      ]
    },
    {
      "cell_type": "code",
      "metadata": {
        "id": "-x-NQZsX4qJ6"
      },
      "source": [
        ""
      ],
      "execution_count": null,
      "outputs": []
    }
  ]
}