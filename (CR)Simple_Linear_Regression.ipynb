{
  "nbformat": 4,
  "nbformat_minor": 0,
  "metadata": {
    "colab": {
      "name": "Simple Linear Regression.ipynb",
      "provenance": [],
      "authorship_tag": "ABX9TyOqIk5je6ZL0eW96ff4Q8Cz",
      "include_colab_link": true
    },
    "kernelspec": {
      "name": "python3",
      "display_name": "Python 3"
    }
  },
  "cells": [
    {
      "cell_type": "markdown",
      "metadata": {
        "id": "view-in-github",
        "colab_type": "text"
      },
      "source": [
        "<a href=\"https://colab.research.google.com/github/Code-tanisha/Data-Science-Python/blob/master/(CR)Simple_Linear_Regression.ipynb\" target=\"_parent\"><img src=\"https://colab.research.google.com/assets/colab-badge.svg\" alt=\"Open In Colab\"/></a>"
      ]
    },
    {
      "cell_type": "code",
      "metadata": {
        "colab": {
          "base_uri": "https://localhost:8080/"
        },
        "id": "ZlJi2CM6gaBb",
        "outputId": "130eaac9-58d6-4331-e8f9-bcc8b4d3bd09"
      },
      "source": [
        "pip install matplotlib"
      ],
      "execution_count": null,
      "outputs": [
        {
          "output_type": "stream",
          "text": [
            "Requirement already satisfied: matplotlib in /usr/local/lib/python3.6/dist-packages (3.2.2)\n",
            "Requirement already satisfied: python-dateutil>=2.1 in /usr/local/lib/python3.6/dist-packages (from matplotlib) (2.8.1)\n",
            "Requirement already satisfied: cycler>=0.10 in /usr/local/lib/python3.6/dist-packages (from matplotlib) (0.10.0)\n",
            "Requirement already satisfied: pyparsing!=2.0.4,!=2.1.2,!=2.1.6,>=2.0.1 in /usr/local/lib/python3.6/dist-packages (from matplotlib) (2.4.7)\n",
            "Requirement already satisfied: kiwisolver>=1.0.1 in /usr/local/lib/python3.6/dist-packages (from matplotlib) (1.3.1)\n",
            "Requirement already satisfied: numpy>=1.11 in /usr/local/lib/python3.6/dist-packages (from matplotlib) (1.19.5)\n",
            "Requirement already satisfied: six>=1.5 in /usr/local/lib/python3.6/dist-packages (from python-dateutil>=2.1->matplotlib) (1.15.0)\n"
          ],
          "name": "stdout"
        }
      ]
    },
    {
      "cell_type": "code",
      "metadata": {
        "id": "Y2Hsx51Sl7nC"
      },
      "source": [
        "import matplotlib.pyplot as plt\r\n",
        "import numpy as np\r\n",
        "# Sklearn also gives us pre existing datasets\r\n",
        "from sklearn import datasets, linear_model"
      ],
      "execution_count": 24,
      "outputs": []
    },
    {
      "cell_type": "code",
      "metadata": {
        "id": "5xQFFeqrmzay"
      },
      "source": [
        "#We are going to use here pre existing dataset provided by sklearn ie diabeties\r\n",
        "diabetes = datasets.load_diabetes()"
      ],
      "execution_count": 25,
      "outputs": []
    },
    {
      "cell_type": "code",
      "metadata": {
        "colab": {
          "base_uri": "https://localhost:8080/"
        },
        "id": "C0zsPEU0nLES",
        "outputId": "efeef095-20c1-4113-9f86-4c875099bcd3"
      },
      "source": [
        "print(diabetes.keys())"
      ],
      "execution_count": 26,
      "outputs": [
        {
          "output_type": "stream",
          "text": [
            "dict_keys(['data', 'target', 'DESCR', 'feature_names', 'data_filename', 'target_filename'])\n"
          ],
          "name": "stdout"
        }
      ]
    },
    {
      "cell_type": "code",
      "metadata": {
        "colab": {
          "base_uri": "https://localhost:8080/",
          "height": 103
        },
        "id": "R4eF_ksrny8l",
        "outputId": "ff279f66-12a1-45f0-a7c1-0d4a947c4762"
      },
      "source": [
        "#TO KNOW ABOUT EACH AND EVERY FEATURE\r\n",
        "diabetes.DESCR"
      ],
      "execution_count": 27,
      "outputs": [
        {
          "output_type": "execute_result",
          "data": {
            "application/vnd.google.colaboratory.intrinsic+json": {
              "type": "string"
            },
            "text/plain": [
              "'.. _diabetes_dataset:\\n\\nDiabetes dataset\\n----------------\\n\\nTen baseline variables, age, sex, body mass index, average blood\\npressure, and six blood serum measurements were obtained for each of n =\\n442 diabetes patients, as well as the response of interest, a\\nquantitative measure of disease progression one year after baseline.\\n\\n**Data Set Characteristics:**\\n\\n  :Number of Instances: 442\\n\\n  :Number of Attributes: First 10 columns are numeric predictive values\\n\\n  :Target: Column 11 is a quantitative measure of disease progression one year after baseline\\n\\n  :Attribute Information:\\n      - Age\\n      - Sex\\n      - Body mass index\\n      - Average blood pressure\\n      - S1\\n      - S2\\n      - S3\\n      - S4\\n      - S5\\n      - S6\\n\\nNote: Each of these 10 feature variables have been mean centered and scaled by the standard deviation times `n_samples` (i.e. the sum of squares of each column totals 1).\\n\\nSource URL:\\nhttps://www4.stat.ncsu.edu/~boos/var.select/diabetes.html\\n\\nFor more information see:\\nBradley Efron, Trevor Hastie, Iain Johnstone and Robert Tibshirani (2004) \"Least Angle Regression,\" Annals of Statistics (with discussion), 407-499.\\n(https://web.stanford.edu/~hastie/Papers/LARS/LeastAngle_2002.pdf)'"
            ]
          },
          "metadata": {
            "tags": []
          },
          "execution_count": 27
        }
      ]
    },
    {
      "cell_type": "code",
      "metadata": {
        "id": "B1TDihAjn9g1",
        "colab": {
          "base_uri": "https://localhost:8080/"
        },
        "outputId": "00d70c20-54f3-42f9-d878-4a77d73dba45"
      },
      "source": [
        "diabetes.target"
      ],
      "execution_count": 28,
      "outputs": [
        {
          "output_type": "execute_result",
          "data": {
            "text/plain": [
              "array([151.,  75., 141., 206., 135.,  97., 138.,  63., 110., 310., 101.,\n",
              "        69., 179., 185., 118., 171., 166., 144.,  97., 168.,  68.,  49.,\n",
              "        68., 245., 184., 202., 137.,  85., 131., 283., 129.,  59., 341.,\n",
              "        87.,  65., 102., 265., 276., 252.,  90., 100.,  55.,  61.,  92.,\n",
              "       259.,  53., 190., 142.,  75., 142., 155., 225.,  59., 104., 182.,\n",
              "       128.,  52.,  37., 170., 170.,  61., 144.,  52., 128.,  71., 163.,\n",
              "       150.,  97., 160., 178.,  48., 270., 202., 111.,  85.,  42., 170.,\n",
              "       200., 252., 113., 143.,  51.,  52., 210.,  65., 141.,  55., 134.,\n",
              "        42., 111.,  98., 164.,  48.,  96.,  90., 162., 150., 279.,  92.,\n",
              "        83., 128., 102., 302., 198.,  95.,  53., 134., 144., 232.,  81.,\n",
              "       104.,  59., 246., 297., 258., 229., 275., 281., 179., 200., 200.,\n",
              "       173., 180.,  84., 121., 161.,  99., 109., 115., 268., 274., 158.,\n",
              "       107.,  83., 103., 272.,  85., 280., 336., 281., 118., 317., 235.,\n",
              "        60., 174., 259., 178., 128.,  96., 126., 288.,  88., 292.,  71.,\n",
              "       197., 186.,  25.,  84.,  96., 195.,  53., 217., 172., 131., 214.,\n",
              "        59.,  70., 220., 268., 152.,  47.,  74., 295., 101., 151., 127.,\n",
              "       237., 225.,  81., 151., 107.,  64., 138., 185., 265., 101., 137.,\n",
              "       143., 141.,  79., 292., 178.,  91., 116.,  86., 122.,  72., 129.,\n",
              "       142.,  90., 158.,  39., 196., 222., 277.,  99., 196., 202., 155.,\n",
              "        77., 191.,  70.,  73.,  49.,  65., 263., 248., 296., 214., 185.,\n",
              "        78.,  93., 252., 150.,  77., 208.,  77., 108., 160.,  53., 220.,\n",
              "       154., 259.,  90., 246., 124.,  67.,  72., 257., 262., 275., 177.,\n",
              "        71.,  47., 187., 125.,  78.,  51., 258., 215., 303., 243.,  91.,\n",
              "       150., 310., 153., 346.,  63.,  89.,  50.,  39., 103., 308., 116.,\n",
              "       145.,  74.,  45., 115., 264.,  87., 202., 127., 182., 241.,  66.,\n",
              "        94., 283.,  64., 102., 200., 265.,  94., 230., 181., 156., 233.,\n",
              "        60., 219.,  80.,  68., 332., 248.,  84., 200.,  55.,  85.,  89.,\n",
              "        31., 129.,  83., 275.,  65., 198., 236., 253., 124.,  44., 172.,\n",
              "       114., 142., 109., 180., 144., 163., 147.,  97., 220., 190., 109.,\n",
              "       191., 122., 230., 242., 248., 249., 192., 131., 237.,  78., 135.,\n",
              "       244., 199., 270., 164.,  72.,  96., 306.,  91., 214.,  95., 216.,\n",
              "       263., 178., 113., 200., 139., 139.,  88., 148.,  88., 243.,  71.,\n",
              "        77., 109., 272.,  60.,  54., 221.,  90., 311., 281., 182., 321.,\n",
              "        58., 262., 206., 233., 242., 123., 167.,  63., 197.,  71., 168.,\n",
              "       140., 217., 121., 235., 245.,  40.,  52., 104., 132.,  88.,  69.,\n",
              "       219.,  72., 201., 110.,  51., 277.,  63., 118.,  69., 273., 258.,\n",
              "        43., 198., 242., 232., 175.,  93., 168., 275., 293., 281.,  72.,\n",
              "       140., 189., 181., 209., 136., 261., 113., 131., 174., 257.,  55.,\n",
              "        84.,  42., 146., 212., 233.,  91., 111., 152., 120.,  67., 310.,\n",
              "        94., 183.,  66., 173.,  72.,  49.,  64.,  48., 178., 104., 132.,\n",
              "       220.,  57.])"
            ]
          },
          "metadata": {
            "tags": []
          },
          "execution_count": 28
        }
      ]
    },
    {
      "cell_type": "code",
      "metadata": {
        "colab": {
          "base_uri": "https://localhost:8080/"
        },
        "id": "v-cBJw65nevb",
        "outputId": "5b622ebc-ee26-454f-c78b-7246f65deb6d"
      },
      "source": [
        "diabetes.data"
      ],
      "execution_count": 29,
      "outputs": [
        {
          "output_type": "execute_result",
          "data": {
            "text/plain": [
              "array([[ 0.03807591,  0.05068012,  0.06169621, ..., -0.00259226,\n",
              "         0.01990842, -0.01764613],\n",
              "       [-0.00188202, -0.04464164, -0.05147406, ..., -0.03949338,\n",
              "        -0.06832974, -0.09220405],\n",
              "       [ 0.08529891,  0.05068012,  0.04445121, ..., -0.00259226,\n",
              "         0.00286377, -0.02593034],\n",
              "       ...,\n",
              "       [ 0.04170844,  0.05068012, -0.01590626, ..., -0.01107952,\n",
              "        -0.04687948,  0.01549073],\n",
              "       [-0.04547248, -0.04464164,  0.03906215, ...,  0.02655962,\n",
              "         0.04452837, -0.02593034],\n",
              "       [-0.04547248, -0.04464164, -0.0730303 , ..., -0.03949338,\n",
              "        -0.00421986,  0.00306441]])"
            ]
          },
          "metadata": {
            "tags": []
          },
          "execution_count": 29
        }
      ]
    },
    {
      "cell_type": "code",
      "metadata": {
        "colab": {
          "base_uri": "https://localhost:8080/"
        },
        "id": "QH3qQtcnoDjw",
        "outputId": "287bf63a-acbb-4527-8356-a3879f31a770"
      },
      "source": [
        "# Here i wanted to take just 1 feature and 1 label to understand simple linear regression\r\n",
        "# So to take 1 feature and 1 label we are going to do slicing \r\n",
        "diabetes_X = diabetes.data[:, np.newaxis, 2]\r\n",
        "print(diabetes_X)"
      ],
      "execution_count": 30,
      "outputs": [
        {
          "output_type": "stream",
          "text": [
            "[[ 0.06169621]\n",
            " [-0.05147406]\n",
            " [ 0.04445121]\n",
            " [-0.01159501]\n",
            " [-0.03638469]\n",
            " [-0.04069594]\n",
            " [-0.04716281]\n",
            " [-0.00189471]\n",
            " [ 0.06169621]\n",
            " [ 0.03906215]\n",
            " [-0.08380842]\n",
            " [ 0.01750591]\n",
            " [-0.02884001]\n",
            " [-0.00189471]\n",
            " [-0.02560657]\n",
            " [-0.01806189]\n",
            " [ 0.04229559]\n",
            " [ 0.01211685]\n",
            " [-0.0105172 ]\n",
            " [-0.01806189]\n",
            " [-0.05686312]\n",
            " [-0.02237314]\n",
            " [-0.00405033]\n",
            " [ 0.06061839]\n",
            " [ 0.03582872]\n",
            " [-0.01267283]\n",
            " [-0.07734155]\n",
            " [ 0.05954058]\n",
            " [-0.02129532]\n",
            " [-0.00620595]\n",
            " [ 0.04445121]\n",
            " [-0.06548562]\n",
            " [ 0.12528712]\n",
            " [-0.05039625]\n",
            " [-0.06332999]\n",
            " [-0.03099563]\n",
            " [ 0.02289497]\n",
            " [ 0.01103904]\n",
            " [ 0.07139652]\n",
            " [ 0.01427248]\n",
            " [-0.00836158]\n",
            " [-0.06764124]\n",
            " [-0.0105172 ]\n",
            " [-0.02345095]\n",
            " [ 0.06816308]\n",
            " [-0.03530688]\n",
            " [-0.01159501]\n",
            " [-0.0730303 ]\n",
            " [-0.04177375]\n",
            " [ 0.01427248]\n",
            " [-0.00728377]\n",
            " [ 0.0164281 ]\n",
            " [-0.00943939]\n",
            " [-0.01590626]\n",
            " [ 0.0250506 ]\n",
            " [-0.04931844]\n",
            " [ 0.04121778]\n",
            " [-0.06332999]\n",
            " [-0.06440781]\n",
            " [-0.02560657]\n",
            " [-0.00405033]\n",
            " [ 0.00457217]\n",
            " [-0.00728377]\n",
            " [-0.0374625 ]\n",
            " [-0.02560657]\n",
            " [-0.02452876]\n",
            " [-0.01806189]\n",
            " [-0.01482845]\n",
            " [-0.02991782]\n",
            " [-0.046085  ]\n",
            " [-0.06979687]\n",
            " [ 0.03367309]\n",
            " [-0.00405033]\n",
            " [-0.02021751]\n",
            " [ 0.00241654]\n",
            " [-0.03099563]\n",
            " [ 0.02828403]\n",
            " [-0.03638469]\n",
            " [-0.05794093]\n",
            " [-0.0374625 ]\n",
            " [ 0.01211685]\n",
            " [-0.02237314]\n",
            " [-0.03530688]\n",
            " [ 0.00996123]\n",
            " [-0.03961813]\n",
            " [ 0.07139652]\n",
            " [-0.07518593]\n",
            " [-0.00620595]\n",
            " [-0.04069594]\n",
            " [-0.04824063]\n",
            " [-0.02560657]\n",
            " [ 0.0519959 ]\n",
            " [ 0.00457217]\n",
            " [-0.06440781]\n",
            " [-0.01698407]\n",
            " [-0.05794093]\n",
            " [ 0.00996123]\n",
            " [ 0.08864151]\n",
            " [-0.00512814]\n",
            " [-0.06440781]\n",
            " [ 0.01750591]\n",
            " [-0.04500719]\n",
            " [ 0.02828403]\n",
            " [ 0.04121778]\n",
            " [ 0.06492964]\n",
            " [-0.03207344]\n",
            " [-0.07626374]\n",
            " [ 0.04984027]\n",
            " [ 0.04552903]\n",
            " [-0.00943939]\n",
            " [-0.03207344]\n",
            " [ 0.00457217]\n",
            " [ 0.02073935]\n",
            " [ 0.01427248]\n",
            " [ 0.11019775]\n",
            " [ 0.00133873]\n",
            " [ 0.05846277]\n",
            " [-0.02129532]\n",
            " [-0.0105172 ]\n",
            " [-0.04716281]\n",
            " [ 0.00457217]\n",
            " [ 0.01750591]\n",
            " [ 0.08109682]\n",
            " [ 0.0347509 ]\n",
            " [ 0.02397278]\n",
            " [-0.00836158]\n",
            " [-0.06117437]\n",
            " [-0.00189471]\n",
            " [-0.06225218]\n",
            " [ 0.0164281 ]\n",
            " [ 0.09618619]\n",
            " [-0.06979687]\n",
            " [-0.02129532]\n",
            " [-0.05362969]\n",
            " [ 0.0433734 ]\n",
            " [ 0.05630715]\n",
            " [-0.0816528 ]\n",
            " [ 0.04984027]\n",
            " [ 0.11127556]\n",
            " [ 0.06169621]\n",
            " [ 0.01427248]\n",
            " [ 0.04768465]\n",
            " [ 0.01211685]\n",
            " [ 0.00564998]\n",
            " [ 0.04660684]\n",
            " [ 0.12852056]\n",
            " [ 0.05954058]\n",
            " [ 0.09295276]\n",
            " [ 0.01535029]\n",
            " [-0.00512814]\n",
            " [ 0.0703187 ]\n",
            " [-0.00405033]\n",
            " [-0.00081689]\n",
            " [-0.04392938]\n",
            " [ 0.02073935]\n",
            " [ 0.06061839]\n",
            " [-0.0105172 ]\n",
            " [-0.03315126]\n",
            " [-0.06548562]\n",
            " [ 0.0433734 ]\n",
            " [-0.06225218]\n",
            " [ 0.06385183]\n",
            " [ 0.03043966]\n",
            " [ 0.07247433]\n",
            " [-0.0191397 ]\n",
            " [-0.06656343]\n",
            " [-0.06009656]\n",
            " [ 0.06924089]\n",
            " [ 0.05954058]\n",
            " [-0.02668438]\n",
            " [-0.02021751]\n",
            " [-0.046085  ]\n",
            " [ 0.07139652]\n",
            " [-0.07949718]\n",
            " [ 0.00996123]\n",
            " [-0.03854032]\n",
            " [ 0.01966154]\n",
            " [ 0.02720622]\n",
            " [-0.00836158]\n",
            " [-0.01590626]\n",
            " [ 0.00457217]\n",
            " [-0.04285156]\n",
            " [ 0.00564998]\n",
            " [-0.03530688]\n",
            " [ 0.02397278]\n",
            " [-0.01806189]\n",
            " [ 0.04229559]\n",
            " [-0.0547075 ]\n",
            " [-0.00297252]\n",
            " [-0.06656343]\n",
            " [-0.01267283]\n",
            " [-0.04177375]\n",
            " [-0.03099563]\n",
            " [-0.00512814]\n",
            " [-0.05901875]\n",
            " [ 0.0250506 ]\n",
            " [-0.046085  ]\n",
            " [ 0.00349435]\n",
            " [ 0.05415152]\n",
            " [-0.04500719]\n",
            " [-0.05794093]\n",
            " [-0.05578531]\n",
            " [ 0.00133873]\n",
            " [ 0.03043966]\n",
            " [ 0.00672779]\n",
            " [ 0.04660684]\n",
            " [ 0.02612841]\n",
            " [ 0.04552903]\n",
            " [ 0.04013997]\n",
            " [-0.01806189]\n",
            " [ 0.01427248]\n",
            " [ 0.03690653]\n",
            " [ 0.00349435]\n",
            " [-0.07087468]\n",
            " [-0.03315126]\n",
            " [ 0.09403057]\n",
            " [ 0.03582872]\n",
            " [ 0.03151747]\n",
            " [-0.06548562]\n",
            " [-0.04177375]\n",
            " [-0.03961813]\n",
            " [-0.03854032]\n",
            " [-0.02560657]\n",
            " [-0.02345095]\n",
            " [-0.06656343]\n",
            " [ 0.03259528]\n",
            " [-0.046085  ]\n",
            " [-0.02991782]\n",
            " [-0.01267283]\n",
            " [-0.01590626]\n",
            " [ 0.07139652]\n",
            " [-0.03099563]\n",
            " [ 0.00026092]\n",
            " [ 0.03690653]\n",
            " [ 0.03906215]\n",
            " [-0.01482845]\n",
            " [ 0.00672779]\n",
            " [-0.06871905]\n",
            " [-0.00943939]\n",
            " [ 0.01966154]\n",
            " [ 0.07462995]\n",
            " [-0.00836158]\n",
            " [-0.02345095]\n",
            " [-0.046085  ]\n",
            " [ 0.05415152]\n",
            " [-0.03530688]\n",
            " [-0.03207344]\n",
            " [-0.0816528 ]\n",
            " [ 0.04768465]\n",
            " [ 0.06061839]\n",
            " [ 0.05630715]\n",
            " [ 0.09834182]\n",
            " [ 0.05954058]\n",
            " [ 0.03367309]\n",
            " [ 0.05630715]\n",
            " [-0.06548562]\n",
            " [ 0.16085492]\n",
            " [-0.05578531]\n",
            " [-0.02452876]\n",
            " [-0.03638469]\n",
            " [-0.00836158]\n",
            " [-0.04177375]\n",
            " [ 0.12744274]\n",
            " [-0.07734155]\n",
            " [ 0.02828403]\n",
            " [-0.02560657]\n",
            " [-0.06225218]\n",
            " [-0.00081689]\n",
            " [ 0.08864151]\n",
            " [-0.03207344]\n",
            " [ 0.03043966]\n",
            " [ 0.00888341]\n",
            " [ 0.00672779]\n",
            " [-0.02021751]\n",
            " [-0.02452876]\n",
            " [-0.01159501]\n",
            " [ 0.02612841]\n",
            " [-0.05901875]\n",
            " [-0.03638469]\n",
            " [-0.02452876]\n",
            " [ 0.01858372]\n",
            " [-0.0902753 ]\n",
            " [-0.00512814]\n",
            " [-0.05255187]\n",
            " [-0.02237314]\n",
            " [-0.02021751]\n",
            " [-0.0547075 ]\n",
            " [-0.00620595]\n",
            " [-0.01698407]\n",
            " [ 0.05522933]\n",
            " [ 0.07678558]\n",
            " [ 0.01858372]\n",
            " [-0.02237314]\n",
            " [ 0.09295276]\n",
            " [-0.03099563]\n",
            " [ 0.03906215]\n",
            " [-0.06117437]\n",
            " [-0.00836158]\n",
            " [-0.0374625 ]\n",
            " [-0.01375064]\n",
            " [ 0.07355214]\n",
            " [-0.02452876]\n",
            " [ 0.03367309]\n",
            " [ 0.0347509 ]\n",
            " [-0.03854032]\n",
            " [-0.03961813]\n",
            " [-0.00189471]\n",
            " [-0.03099563]\n",
            " [-0.046085  ]\n",
            " [ 0.00133873]\n",
            " [ 0.06492964]\n",
            " [ 0.04013997]\n",
            " [-0.02345095]\n",
            " [ 0.05307371]\n",
            " [ 0.04013997]\n",
            " [-0.02021751]\n",
            " [ 0.01427248]\n",
            " [-0.03422907]\n",
            " [ 0.00672779]\n",
            " [ 0.00457217]\n",
            " [ 0.03043966]\n",
            " [ 0.0519959 ]\n",
            " [ 0.06169621]\n",
            " [-0.00728377]\n",
            " [ 0.00564998]\n",
            " [ 0.05415152]\n",
            " [-0.00836158]\n",
            " [ 0.114509  ]\n",
            " [ 0.06708527]\n",
            " [-0.05578531]\n",
            " [ 0.03043966]\n",
            " [-0.02560657]\n",
            " [ 0.10480869]\n",
            " [-0.00620595]\n",
            " [-0.04716281]\n",
            " [-0.04824063]\n",
            " [ 0.08540807]\n",
            " [-0.01267283]\n",
            " [-0.03315126]\n",
            " [-0.00728377]\n",
            " [-0.01375064]\n",
            " [ 0.05954058]\n",
            " [ 0.02181716]\n",
            " [ 0.01858372]\n",
            " [-0.01159501]\n",
            " [-0.00297252]\n",
            " [ 0.01750591]\n",
            " [-0.02991782]\n",
            " [-0.02021751]\n",
            " [-0.05794093]\n",
            " [ 0.06061839]\n",
            " [-0.04069594]\n",
            " [-0.07195249]\n",
            " [-0.05578531]\n",
            " [ 0.04552903]\n",
            " [-0.00943939]\n",
            " [-0.03315126]\n",
            " [ 0.04984027]\n",
            " [-0.08488624]\n",
            " [ 0.00564998]\n",
            " [ 0.02073935]\n",
            " [-0.00728377]\n",
            " [ 0.10480869]\n",
            " [-0.02452876]\n",
            " [-0.00620595]\n",
            " [-0.03854032]\n",
            " [ 0.13714305]\n",
            " [ 0.17055523]\n",
            " [ 0.00241654]\n",
            " [ 0.03798434]\n",
            " [-0.05794093]\n",
            " [-0.00943939]\n",
            " [-0.02345095]\n",
            " [-0.0105172 ]\n",
            " [-0.03422907]\n",
            " [-0.00297252]\n",
            " [ 0.06816308]\n",
            " [ 0.00996123]\n",
            " [ 0.00241654]\n",
            " [-0.03854032]\n",
            " [ 0.02612841]\n",
            " [-0.08919748]\n",
            " [ 0.06061839]\n",
            " [-0.02884001]\n",
            " [-0.02991782]\n",
            " [-0.0191397 ]\n",
            " [-0.04069594]\n",
            " [ 0.01535029]\n",
            " [-0.02452876]\n",
            " [ 0.00133873]\n",
            " [ 0.06924089]\n",
            " [-0.06979687]\n",
            " [-0.02991782]\n",
            " [-0.046085  ]\n",
            " [ 0.01858372]\n",
            " [ 0.00133873]\n",
            " [-0.03099563]\n",
            " [-0.00405033]\n",
            " [ 0.01535029]\n",
            " [ 0.02289497]\n",
            " [ 0.04552903]\n",
            " [-0.04500719]\n",
            " [-0.03315126]\n",
            " [ 0.097264  ]\n",
            " [ 0.05415152]\n",
            " [ 0.12313149]\n",
            " [-0.08057499]\n",
            " [ 0.09295276]\n",
            " [-0.05039625]\n",
            " [-0.01159501]\n",
            " [-0.0277622 ]\n",
            " [ 0.05846277]\n",
            " [ 0.08540807]\n",
            " [-0.00081689]\n",
            " [ 0.00672779]\n",
            " [ 0.00888341]\n",
            " [ 0.08001901]\n",
            " [ 0.07139652]\n",
            " [-0.02452876]\n",
            " [-0.0547075 ]\n",
            " [-0.03638469]\n",
            " [ 0.0164281 ]\n",
            " [ 0.07786339]\n",
            " [-0.03961813]\n",
            " [ 0.01103904]\n",
            " [-0.04069594]\n",
            " [-0.03422907]\n",
            " [ 0.00564998]\n",
            " [ 0.08864151]\n",
            " [-0.03315126]\n",
            " [-0.05686312]\n",
            " [-0.03099563]\n",
            " [ 0.05522933]\n",
            " [-0.06009656]\n",
            " [ 0.00133873]\n",
            " [-0.02345095]\n",
            " [-0.07410811]\n",
            " [ 0.01966154]\n",
            " [-0.01590626]\n",
            " [-0.01590626]\n",
            " [ 0.03906215]\n",
            " [-0.0730303 ]]\n"
          ],
          "name": "stdout"
        }
      ]
    },
    {
      "cell_type": "code",
      "metadata": {
        "id": "65e7c3-DqrFo"
      },
      "source": [
        "# We are going to divide out model in train and test and for training we are goin to take last 30 fratures and for test we are going to take start 20 features\r\n",
        "\r\n",
        "diabetes_X_train = diabetes_X[:-30]\r\n",
        "diabetes_X_test= diabetes_X[-20:]\r\n"
      ],
      "execution_count": 31,
      "outputs": []
    },
    {
      "cell_type": "code",
      "metadata": {
        "id": "WjecKPDIs41V"
      },
      "source": [
        "# Now we are going to take corresponding labels of the featurs which we have taken above\r\n",
        "diabetes_Y_train = diabetes.target[:-30]\r\n",
        "diabetes_Y_test= diabetes.target[-20:]"
      ],
      "execution_count": 32,
      "outputs": []
    },
    {
      "cell_type": "code",
      "metadata": {
        "colab": {
          "base_uri": "https://localhost:8080/"
        },
        "id": "1kUnMExTtMso",
        "outputId": "2e48d655-a62f-41ac-adf7-f8601a2dd644"
      },
      "source": [
        "# Now we are going to create a linear model which i have imported already from sklearn\r\n",
        "model = linear_model.LinearRegression()\r\n",
        "# Now i am going to fit my data into the model to get the line\r\n",
        "model.fit(diabetes_X_train, diabetes_Y_train)\r\n"
      ],
      "execution_count": 33,
      "outputs": [
        {
          "output_type": "execute_result",
          "data": {
            "text/plain": [
              "LinearRegression(copy_X=True, fit_intercept=True, n_jobs=None, normalize=False)"
            ]
          },
          "metadata": {
            "tags": []
          },
          "execution_count": 33
        }
      ]
    },
    {
      "cell_type": "code",
      "metadata": {
        "id": "ftpeCf5NvC-S"
      },
      "source": [
        "# Now I am goin to test my model and predict the values and going to save it in Y_test \r\n",
        "\r\n",
        "diabeter_Y_predicted = model.predict(diabetes_X_test)\r\n"
      ],
      "execution_count": 34,
      "outputs": []
    },
    {
      "cell_type": "code",
      "metadata": {
        "id": "_BBRvWvZv21p",
        "colab": {
          "base_uri": "https://localhost:8080/"
        },
        "outputId": "51b8681a-d2c8-4db7-c191-5579ac0fc14f"
      },
      "source": [
        "# Now we wanted to see how much our values are accurate for that the best metric is mean squared error\r\n",
        "from sklearn.metrics import mean_squared_error\r\n",
        "print(\"Mean squared error is: \", mean_squared_error(diabeter_Y_test, diabeter_Y_predicted))  # Here atributes are the actual values and the values predicted by the model"
      ],
      "execution_count": 35,
      "outputs": [
        {
          "output_type": "stream",
          "text": [
            "Mean squared error is:  0.0\n"
          ],
          "name": "stdout"
        }
      ]
    },
    {
      "cell_type": "code",
      "metadata": {
        "colab": {
          "base_uri": "https://localhost:8080/"
        },
        "id": "_lDiPDvfBcQB",
        "outputId": "2be1e643-a3a6-42b2-db2b-c001e3061074"
      },
      "source": [
        "# Now we are going to find out the weights and the intercepts of our model\r\n",
        "print(\"weights: \", model.coef_)   # We get model weights using coef means coefficient \r\n",
        "print(\"intercept: \", model.intercept_)"
      ],
      "execution_count": 36,
      "outputs": [
        {
          "output_type": "stream",
          "text": [
            "weights:  [941.43097333]\n",
            "intercept:  153.39713623331698\n"
          ],
          "name": "stdout"
        }
      ]
    },
    {
      "cell_type": "code",
      "metadata": {
        "colab": {
          "base_uri": "https://localhost:8080/",
          "height": 265
        },
        "id": "5m4iF1rRCN9U",
        "outputId": "d7d36815-5f84-4670-aa89-a2d83f2e037a"
      },
      "source": [
        "# Now we are going to plot our weights and intercepts with the help of maplotlib\r\n",
        "import matplotlib.pyplot as plt\r\n",
        "# Now 1st we are going to make out scatterplot and we are going to feed out test data\r\n",
        "plt.scatter(diabetes_X_test, diabetes_Y_test)\r\n",
        "plt.show()\r\n"
      ],
      "execution_count": 37,
      "outputs": [
        {
          "output_type": "display_data",
          "data": {
            "image/png": "[encoded data removed]",
            "text/plain": [
              "<Figure size 432x288 with 1 Axes>"
            ]
          },
          "metadata": {
            "tags": [],
            "needs_background": "light"
          }
        }
      ]
    },
    {
      "cell_type": "code",
      "metadata": {
        "colab": {
          "base_uri": "https://localhost:8080/",
          "height": 265
        },
        "id": "TI7V3xu0LSjf",
        "outputId": "36452200-ab09-4b89-e668-ed4a50bdb1da"
      },
      "source": [
        "# Heare we want to plot the line with the predicted values\r\n",
        "plt.plot(diabetes_X_test, diabeter_Y_predicted)\r\n",
        "plt.show()"
      ],
      "execution_count": 38,
      "outputs": [
        {
          "output_type": "display_data",
          "data": {
            "image/png": "[encoded data removed]",
            "text/plain": [
              "<Figure size 432x288 with 1 Axes>"
            ]
          },
          "metadata": {
            "tags": [],
            "needs_background": "light"
          }
        }
      ]
    },
    {
      "cell_type": "code",
      "metadata": {
        "colab": {
          "base_uri": "https://localhost:8080/",
          "height": 282
        },
        "id": "1AgSdRwhLkIi",
        "outputId": "1936f426-9fca-4437-b69f-8564fb7450ce"
      },
      "source": [
        "# now we wanted to see this line of predicted valus in out scatter plot so we will mix out above 2 plots together\r\n",
        "plt.scatter(diabetes_X_test, diabetes_Y_test)\r\n",
        "plt.plot(diabetes_X_test, diabeter_Y_predicted)\r\n",
        "plt.show"
      ],
      "execution_count": 39,
      "outputs": [
        {
          "output_type": "execute_result",
          "data": {
            "text/plain": [
              "<function matplotlib.pyplot.show>"
            ]
          },
          "metadata": {
            "tags": []
          },
          "execution_count": 39
        },
        {
          "output_type": "display_data",
          "data": {
            "image/png": "[encoded data removed]",
            "text/plain": [
              "<Figure size 432x288 with 1 Axes>"
            ]
          },
          "metadata": {
            "tags": [],
            "needs_background": "light"
          }
        }
      ]
    }
  ]
}