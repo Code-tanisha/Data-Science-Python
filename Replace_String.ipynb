{
  "nbformat": 4,
  "nbformat_minor": 0,
  "metadata": {
    "colab": {
      "name": "Untitled2.ipynb",
      "version": "0.3.2",
      "provenance": [],
      "include_colab_link": true
    },
    "kernelspec": {
      "name": "python3",
      "display_name": "Python 3"
    }
  },
  "cells": [
    {
      "cell_type": "markdown",
      "metadata": {
        "id": "view-in-github",
        "colab_type": "text"
      },
      "source": [
        "<a href=\"https://colab.research.google.com/github/Tanisha2910/Data-Science-Python/blob/master/Replace_String.ipynb\" target=\"_parent\"><img src=\"https://colab.research.google.com/assets/colab-badge.svg\" alt=\"Open In Colab\"/></a>"
      ]
    },
    {
      "cell_type": "code",
      "metadata": {
        "id": "qicmYBalswy1",
        "colab_type": "code",
        "colab": {
          "base_uri": "https://localhost:8080/",
          "height": 34
        },
        "outputId": "1a5f603d-2a26-40b9-d0e6-1006773cdb0d"
      },
      "source": [
        "# Here is our text\n",
        "\n",
        "a = ('I love to play football bcz my favourite sportsperson is ronald bcz i love cars')\n",
        "\n",
        "# using replace method\n",
        "a = a.replace('bcz', 'because')\n",
        "a"
      ],
      "execution_count": 4,
      "outputs": [
        {
          "output_type": "execute_result",
          "data": {
            "text/plain": [
              "'I love to play football because my favourite sportsperson is ronald because i love cars'"
            ]
          },
          "metadata": {
            "tags": []
          },
          "execution_count": 4
        }
      ]
    },
    {
      "cell_type": "code",
      "metadata": {
        "id": "PcW9D4TFtQex",
        "colab_type": "code",
        "colab": {
          "base_uri": "https://localhost:8080/",
          "height": 34
        },
        "outputId": "684fae44-081e-4df5-9771-6ff63d4aa847"
      },
      "source": [
        "# Replace using dictionary if there are more than one word to replace\n",
        "# Building dictionary consisting of key as word to match and value as word to replace\n",
        "dic = {'bcz' : 'because'}\n",
        "text = ('I love to play football bcz my favourite sportsperson is ronald bcz i lov')\n",
        "def replace_all(text, dic):\n",
        "    for i, j in dic.items():\n",
        "      # the syntax of replace() is: str.replace(old, new[, count])\n",
        "      text = text.replace(i,j) #i is the key and j is the value\n",
        "    return text\n",
        "a = replace_all(text,dic)\n",
        "a"
      ],
      "execution_count": 6,
      "outputs": [
        {
          "output_type": "execute_result",
          "data": {
            "text/plain": [
              "'I love to play football because my favourite sportsperson is ronald because i lov'"
            ]
          },
          "metadata": {
            "tags": []
          },
          "execution_count": 6
        }
      ]
    }
  ]
}