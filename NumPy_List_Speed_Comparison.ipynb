{
  "nbformat": 4,
  "nbformat_minor": 0,
  "metadata": {
    "colab": {
      "name": "NumPy/List_Speed_Comparison.ipynb",
      "provenance": [],
      "authorship_tag": "ABX9TyOJH7uhM7EkTel+4i/U7F7T",
      "include_colab_link": true
    },
    "kernelspec": {
      "name": "python3",
      "display_name": "Python 3"
    },
    "language_info": {
      "name": "python"
    }
  },
  "cells": [
    {
      "cell_type": "markdown",
      "metadata": {
        "id": "view-in-github",
        "colab_type": "text"
      },
      "source": [
        "<a href=\"https://colab.research.google.com/github/Code-tanisha/Data-Science-Python/blob/master/NumPy_List_Speed_Comparison.ipynb\" target=\"_parent\"><img src=\"https://colab.research.google.com/assets/colab-badge.svg\" alt=\"Open In Colab\"/></a>"
      ]
    },
    {
      "cell_type": "markdown",
      "metadata": {
        "id": "NL5zqKVSRsfL"
      },
      "source": [
        "**Compare Computation Times in NumPy and Standard Python Lists**\n",
        "\n",
        "Now that we know how to use numpy, let us see code and witness the key advantages of numpy i.e. convenience and speed of computation.\n",
        "\n",
        "In the data science landscape, you'll often work with extremely large datasets, and thus it is important point for you to understand how much computation time (and memory) you can save using numpy, compared to standard python lists.\n",
        "\n",
        "Let's compare the computation times of arrays and lists for a simple task of calculating the element-wise product of numbers."
      ]
    },
    {
      "cell_type": "code",
      "metadata": {
        "id": "H7FpmItwULIh"
      },
      "source": [
        "import time\n",
        "import numpy as np"
      ],
      "execution_count": 8,
      "outputs": []
    },
    {
      "cell_type": "code",
      "metadata": {
        "colab": {
          "base_uri": "https://localhost:8080/"
        },
        "id": "r8kA2t8SRSOB",
        "outputId": "4c615aaa-508a-48b4-9bca-91817c9aed78"
      },
      "source": [
        "## Comparing time taken for computation\n",
        "list_1 = [i for i in range(1000000)]\n",
        "list_2 = [j**2 for j in range(1000000)]\n",
        "\n",
        "t0 = time.time()\n",
        "product_list = list(map(lambda x, y: x*y, list_1, list_2))\n",
        "t1 = time.time()\n",
        "list_time = t1 - t0\n",
        "print (t1-t0)\n"
      ],
      "execution_count": 4,
      "outputs": [
        {
          "output_type": "stream",
          "text": [
            "0.1492328643798828\n"
          ],
          "name": "stdout"
        }
      ]
    },
    {
      "cell_type": "code",
      "metadata": {
        "id": "Q1XlpDsLUHHX"
      },
      "source": [
        "# numpy array \n",
        "array_1 = np.array(list_1)\n",
        "array_2 = np.array(list_2)\n"
      ],
      "execution_count": 9,
      "outputs": []
    },
    {
      "cell_type": "code",
      "metadata": {
        "colab": {
          "base_uri": "https://localhost:8080/"
        },
        "id": "mmOx306gUmdz",
        "outputId": "09312ad0-5945-4172-82c6-7f3cdcf639b8"
      },
      "source": [
        "t0 = time.time()\n",
        "product_numpy = array_1 * array_2\n",
        "t1 = time.time()\n",
        "numpy_time = t1 - t0\n",
        "print (t1-t0)\n",
        "\n",
        "\n",
        "print(\"The ratio of time taken is {}\".format(list_time//numpy_time))"
      ],
      "execution_count": 11,
      "outputs": [
        {
          "output_type": "stream",
          "text": [
            "0.009868860244750977\n",
            "The ratio of time taken is 15.0\n"
          ],
          "name": "stdout"
        }
      ]
    },
    {
      "cell_type": "markdown",
      "metadata": {
        "id": "VfCfM3xdVRgq"
      },
      "source": [
        "In this case, numpy is **an order of magnitude** faster than lists. This is with arrays of size in millions, but you may work on much larger arrays of sizes in order of billions. Then, the difference is even larger.\n",
        "\n",
        "Some reasons for such difference in speed are:\n",
        "\n",
        "NumPy is written in C, which is basically being executed behind the scenes\n",
        "NumPy arrays are more compact than lists, i.e. they take much lesser storage space than lists\n",
        "The following discussions demonstrate the differences in speeds of NumPy and standard python:\n",
        "\n",
        "https://stackoverflow.com/questions/8385602/why-are-numpy-arrays-so-fast\n",
        "https://stackoverflow.com/questions/993984/why-numpy-instead-of-python-lists"
      ]
    },
    {
      "cell_type": "code",
      "metadata": {
        "id": "VU0tYFi1VQ6A"
      },
      "source": [
        ""
      ],
      "execution_count": null,
      "outputs": []
    }
  ]
}