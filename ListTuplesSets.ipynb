{
  "nbformat": 4,
  "nbformat_minor": 0,
  "metadata": {
    "colab": {
      "name": "ListTuplesSets.ipynb",
      "provenance": [],
      "authorship_tag": "ABX9TyNWdL9SLA5lGq1pCFB9HVxn",
      "include_colab_link": true
    },
    "kernelspec": {
      "name": "python3",
      "display_name": "Python 3"
    }
  },
  "cells": [
    {
      "cell_type": "markdown",
      "metadata": {
        "id": "view-in-github",
        "colab_type": "text"
      },
      "source": [
        "<a href=\"https://colab.research.google.com/github/Tanisha2910/Data-Science-Python/blob/master/ListTuplesSets.ipynb\" target=\"_parent\"><img src=\"https://colab.research.google.com/assets/colab-badge.svg\" alt=\"Open In Colab\"/></a>"
      ]
    },
    {
      "cell_type": "code",
      "metadata": {
        "id": "RA6Uy7K_0O65",
        "colab_type": "code",
        "colab": {
          "base_uri": "https://localhost:8080/",
          "height": 85
        },
        "outputId": "916c4646-3515-4eb0-9dbc-3ea57736911f"
      },
      "source": [
        "courses = ['Math', 'science', 'History', 'GK']\n",
        "print(len(courses))\n",
        "# It will print 0 and 1 till 2 but not including 2\n",
        "print(courses[0:2])\n",
        "print(courses[:2])\n",
        "print(courses[2:])"
      ],
      "execution_count": 21,
      "outputs": [
        {
          "output_type": "stream",
          "text": [
            "4\n",
            "['Math', 'science']\n",
            "['Math', 'science']\n",
            "['History', 'GK']\n"
          ],
          "name": "stdout"
        }
      ]
    },
    {
      "cell_type": "code",
      "metadata": {
        "id": "SqjY4hL906cB",
        "colab_type": "code",
        "colab": {
          "base_uri": "https://localhost:8080/",
          "height": 34
        },
        "outputId": "f41d9abf-e3a9-4a1b-ac97-6a63b1b2b194"
      },
      "source": [
        "# Adding an item in the list with the use of append\n",
        "# Below will append to the end of the list\n",
        "courses.append('Art')\n",
        "print(courses)\n"
      ],
      "execution_count": 22,
      "outputs": [
        {
          "output_type": "stream",
          "text": [
            "['Math', 'science', 'History', 'GK', 'Art']\n"
          ],
          "name": "stdout"
        }
      ]
    },
    {
      "cell_type": "code",
      "metadata": {
        "id": "ehBAejGf15Wz",
        "colab_type": "code",
        "colab": {
          "base_uri": "https://localhost:8080/",
          "height": 34
        },
        "outputId": "15818ecc-fc2e-4ae4-e2c4-d76001d9fa70"
      },
      "source": [
        "# If we want to add some item to the specific location then we will use insert method \n",
        "# Index takes 2 arguments 1st : it takes the index where u want to insert and then the value itself\n",
        "# below 0 is the location\n",
        "courses.insert(0, 'Art')\n",
        "print(courses)\n",
        "\n"
      ],
      "execution_count": 23,
      "outputs": [
        {
          "output_type": "stream",
          "text": [
            "['Art', 'Math', 'science', 'History', 'GK', 'Art']\n"
          ],
          "name": "stdout"
        }
      ]
    },
    {
      "cell_type": "code",
      "metadata": {
        "id": "ci-to4b231GU",
        "colab_type": "code",
        "colab": {
          "base_uri": "https://localhost:8080/",
          "height": 34
        },
        "outputId": "827bea2c-6702-4a98-c1ab-e2bbc195ec9c"
      },
      "source": [
        "# Another method of inserting values to the list is with thw use of extend method\n",
        "# We use extend when we have multiple values to add to our list\n",
        "course_2 = ['Art', 'Education']\n",
        "courses.extend(course_2)\n",
        "print(courses)"
      ],
      "execution_count": 24,
      "outputs": [
        {
          "output_type": "stream",
          "text": [
            "['Art', 'Math', 'science', 'History', 'GK', 'Art', 'Art', 'Education']\n"
          ],
          "name": "stdout"
        }
      ]
    },
    {
      "cell_type": "code",
      "metadata": {
        "id": "dpleouPM4JvW",
        "colab_type": "code",
        "colab": {
          "base_uri": "https://localhost:8080/",
          "height": 34
        },
        "outputId": "526abe81-804a-4123-d12f-62e525120ea3"
      },
      "source": [
        "# Removing values\n",
        "courses.remove('Art')\n",
        "print(courses)"
      ],
      "execution_count": 28,
      "outputs": [
        {
          "output_type": "stream",
          "text": [
            "['science', 'History', 'GK', 'Art', 'Art', 'Education']\n"
          ],
          "name": "stdout"
        }
      ]
    },
    {
      "cell_type": "code",
      "metadata": {
        "id": "0x944g774fe7",
        "colab_type": "code",
        "colab": {
          "base_uri": "https://localhost:8080/",
          "height": 34
        },
        "outputId": "ff13dd3f-753f-463b-bf94-b18be9b1cfd7"
      },
      "source": [
        "# Pop() Method:  this will remove the last value of our list\n",
        "courses.pop()\n",
        "print(courses)"
      ],
      "execution_count": 29,
      "outputs": [
        {
          "output_type": "stream",
          "text": [
            "['science', 'History', 'GK', 'Art', 'Art']\n"
          ],
          "name": "stdout"
        }
      ]
    },
    {
      "cell_type": "code",
      "metadata": {
        "id": "6z1KYneV4s90",
        "colab_type": "code",
        "colab": {
          "base_uri": "https://localhost:8080/",
          "height": 34
        },
        "outputId": "cfcaba71-c436-4379-d94f-499c33f6459b"
      },
      "source": [
        "course_2 = ['Math', 'Art', 'Science', 'GK']\n",
        "# Now we want to reverse our list\n",
        "course_2.reverse()\n",
        "print(course_2)"
      ],
      "execution_count": 30,
      "outputs": [
        {
          "output_type": "stream",
          "text": [
            "['GK', 'Science', 'Art', 'Math']\n"
          ],
          "name": "stdout"
        }
      ]
    },
    {
      "cell_type": "code",
      "metadata": {
        "id": "P9zwehet5Fqt",
        "colab_type": "code",
        "colab": {
          "base_uri": "https://localhost:8080/",
          "height": 34
        },
        "outputId": "605a67d4-0893-41e8-e109-fb220e043387"
      },
      "source": [
        "# Sorting the list in alphabetical order\n",
        "course_2.sort()\n",
        "print(course_2)"
      ],
      "execution_count": 32,
      "outputs": [
        {
          "output_type": "stream",
          "text": [
            "['Art', 'GK', 'Math', 'Science']\n"
          ],
          "name": "stdout"
        }
      ]
    },
    {
      "cell_type": "code",
      "metadata": {
        "id": "6aDSH4hM5T-w",
        "colab_type": "code",
        "colab": {
          "base_uri": "https://localhost:8080/",
          "height": 34
        },
        "outputId": "7b311055-1c52-4206-ba19-ccc09b7ebf2a"
      },
      "source": [
        "\n",
        "# Sort in ascending ordernums = [2, 4, 6 , 3]\n",
        "nums.sort()\n",
        "print(nums)"
      ],
      "execution_count": 35,
      "outputs": [
        {
          "output_type": "stream",
          "text": [
            "[6, 4, 3, 2]\n"
          ],
          "name": "stdout"
        }
      ]
    },
    {
      "cell_type": "code",
      "metadata": {
        "id": "TO9pyXLH5hH2",
        "colab_type": "code",
        "colab": {
          "base_uri": "https://localhost:8080/",
          "height": 34
        },
        "outputId": "c396e179-9ea8-4076-cc8f-204b6bee8351"
      },
      "source": [
        "# WHAT if we want sort in descending order then we can do it in 2 ways:\n",
        "# We can first sort it in ascending order and reverse it\n",
        "# nums.sort()\n",
        "# nums.reverse()\n",
        "# print(nums)\n",
        "\n",
        "# Or we can do it in an easier ways\n",
        "num_1 = [8, 3, 7, 5, 0, 2]\n",
        "num_1.sort(reverse = True)\n",
        "print(num_1)"
      ],
      "execution_count": 41,
      "outputs": [
        {
          "output_type": "stream",
          "text": [
            "[8, 7, 5, 3, 2, 0]\n"
          ],
          "name": "stdout"
        }
      ]
    },
    {
      "cell_type": "code",
      "metadata": {
        "id": "YeZWxnC26ydv",
        "colab_type": "code",
        "colab": {
          "base_uri": "https://localhost:8080/",
          "height": 68
        },
        "outputId": "3d2be062-39af-4bbc-fe02-c0019506b421"
      },
      "source": [
        "# Other functions\n",
        "print(min(num_1))\n",
        "print(max(num_1))\n",
        "print(sum(num_1))"
      ],
      "execution_count": 42,
      "outputs": [
        {
          "output_type": "stream",
          "text": [
            "0\n",
            "8\n",
            "25\n"
          ],
          "name": "stdout"
        }
      ]
    },
    {
      "cell_type": "code",
      "metadata": {
        "id": "BGq3ZTYx7E2K",
        "colab_type": "code",
        "colab": {
          "base_uri": "https://localhost:8080/",
          "height": 34
        },
        "outputId": "99e4b4e7-bea8-4330-ebcc-64bd84f1d463"
      },
      "source": [
        "print(course_2.index('Art'))\n"
      ],
      "execution_count": 43,
      "outputs": [
        {
          "output_type": "stream",
          "text": [
            "0\n"
          ],
          "name": "stdout"
        }
      ]
    },
    {
      "cell_type": "code",
      "metadata": {
        "id": "FZGDZpQI7T3F",
        "colab_type": "code",
        "colab": {
          "base_uri": "https://localhost:8080/",
          "height": 34
        },
        "outputId": "d81ee169-79c4-4f1b-be02-0c01f5ee3e51"
      },
      "source": [
        "# Now we want to check if GK is in our course_2 list or not\n",
        "print('GK' in course_2)"
      ],
      "execution_count": 44,
      "outputs": [
        {
          "output_type": "stream",
          "text": [
            "True\n"
          ],
          "name": "stdout"
        }
      ]
    },
    {
      "cell_type": "code",
      "metadata": {
        "id": "53yvhZAH7nZN",
        "colab_type": "code",
        "colab": {
          "base_uri": "https://localhost:8080/",
          "height": 85
        },
        "outputId": "357b7ef4-d741-434c-d6eb-40d4360e5d71"
      },
      "source": [
        "# Now we are going to create a loop where looping through each value of our list and each loop throuh this item variable will be equal to the next item in the list\n",
        "for course in course_2:\n",
        "    print(course)\n",
        "# Inoutput every thing is coming in next line coz by default print statement webt to the new line"
      ],
      "execution_count": 46,
      "outputs": [
        {
          "output_type": "stream",
          "text": [
            "Art\n",
            "GK\n",
            "Math\n",
            "Science\n"
          ],
          "name": "stdout"
        }
      ]
    },
    {
      "cell_type": "code",
      "metadata": {
        "id": "eVMmWHnX8ekQ",
        "colab_type": "code",
        "colab": {
          "base_uri": "https://localhost:8080/",
          "height": 85
        },
        "outputId": "86262674-6320-4074-e247-3617f3bfe9f8"
      },
      "source": [
        "# Enumerate function returns that were on the value\n",
        "for index, course in enumerate(course_2):\n",
        "    print(index, course)"
      ],
      "execution_count": 48,
      "outputs": [
        {
          "output_type": "stream",
          "text": [
            "0 Art\n",
            "1 GK\n",
            "2 Math\n",
            "3 Science\n"
          ],
          "name": "stdout"
        }
      ]
    },
    {
      "cell_type": "markdown",
      "metadata": {
        "id": "o4v6UrB3mXtA",
        "colab_type": "text"
      },
      "source": [
        "# **SETS**"
      ]
    },
    {
      "cell_type": "code",
      "metadata": {
        "id": "KJrbEZI0kaW1",
        "colab_type": "code",
        "colab": {
          "base_uri": "https://localhost:8080/",
          "height": 68
        },
        "outputId": "d92fd170-bd9a-4fc4-f999-5ef48801900a"
      },
      "source": [
        "course = {'Art', 'History', 'Bio', 'Geo'}\n",
        "print(course)\n",
        "type(course)\n",
        "\n",
        "# Sets remove duplicate values\n",
        "course = {'Art', 'History', 'Bio', 'Geo', 'Art'}\n",
        "# It will print after removing the duplicate values\n",
        "print(course)\n",
        "\n",
        "print('Bio' in course)"
      ],
      "execution_count": 58,
      "outputs": [
        {
          "output_type": "stream",
          "text": [
            "{'History', 'Art', 'Bio', 'Geo'}\n",
            "{'History', 'Art', 'Bio', 'Geo'}\n",
            "True\n"
          ],
          "name": "stdout"
        }
      ]
    },
    {
      "cell_type": "code",
      "metadata": {
        "id": "qqDlf1txnNI_",
        "colab_type": "code",
        "colab": {
          "base_uri": "https://localhost:8080/",
          "height": 34
        },
        "outputId": "64bf46a4-c7bd-4d91-8fac-1eb9e15356f8"
      },
      "source": [
        "# Other functions of sets\n",
        "set_1 = {'Art', 'History', 'Bio', 'Geo'}\n",
        "set_2 = {'Bio', ' Geo', 'GK', 'Phy'}\n",
        "# Now we want to see what courses there 2 sets have in common, so we will use intersection\n",
        "print(set_2.intersection(set_1))\n"
      ],
      "execution_count": 62,
      "outputs": [
        {
          "output_type": "stream",
          "text": [
            "{'Bio'}\n"
          ],
          "name": "stdout"
        }
      ]
    },
    {
      "cell_type": "code",
      "metadata": {
        "id": "JsWwh8JRouVU",
        "colab_type": "code",
        "colab": {}
      },
      "source": [
        ""
      ],
      "execution_count": 0,
      "outputs": []
    }
  ]
}