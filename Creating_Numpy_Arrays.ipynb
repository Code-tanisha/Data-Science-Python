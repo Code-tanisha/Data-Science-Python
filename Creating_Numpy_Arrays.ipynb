{
  "nbformat": 4,
  "nbformat_minor": 0,
  "metadata": {
    "colab": {
      "name": "Creating_Numpy_Arrays",
      "provenance": [],
      "authorship_tag": "ABX9TyPWd/SgvnNARZTsAl43/Enf",
      "include_colab_link": true
    },
    "kernelspec": {
      "name": "python3",
      "display_name": "Python 3"
    },
    "language_info": {
      "name": "python"
    }
  },
  "cells": [
    {
      "cell_type": "markdown",
      "metadata": {
        "id": "view-in-github",
        "colab_type": "text"
      },
      "source": [
        "<a href=\"https://colab.research.google.com/github/Code-tanisha/Data-Science-Python/blob/master/Creating_Numpy_Arrays.ipynb\" target=\"_parent\"><img src=\"https://colab.research.google.com/assets/colab-badge.svg\" alt=\"Open In Colab\"/></a>"
      ]
    },
    {
      "cell_type": "markdown",
      "metadata": {
        "id": "OZmbuLSfC_kr"
      },
      "source": [
        "# Creating NumPy Arrays"
      ]
    },
    {
      "cell_type": "markdown",
      "metadata": {
        "id": "uMvJyDKLDCVD"
      },
      "source": [
        "The following ways are commonly used when you know the size of the array beforehand:\n",
        "\n",
        "np.ones(): Create array of 1s\n",
        "\n",
        "np.zeros(): Create array of 0s\n",
        "\n",
        "np.random.random(): Create array of random numbers\n",
        "\n",
        "np.arange(): Create array with increments of a fixed step size\n",
        "\n",
        "np.linspace(): Create array of fixed length"
      ]
    },
    {
      "cell_type": "code",
      "metadata": {
        "id": "BGQclTwrDFl3"
      },
      "source": [
        "import numpy as np"
      ],
      "execution_count": null,
      "outputs": []
    },
    {
      "cell_type": "code",
      "metadata": {
        "colab": {
          "base_uri": "https://localhost:8080/"
        },
        "id": "CUkI-f40ErmL",
        "outputId": "7ea46ce9-19ec-4e34-c984-48fce81de4ee"
      },
      "source": [
        "help(np.ones)"
      ],
      "execution_count": null,
      "outputs": [
        {
          "output_type": "stream",
          "text": [
            "Help on function ones in module numpy:\n",
            "\n",
            "ones(shape, dtype=None, order='C')\n",
            "    Return a new array of given shape and type, filled with ones.\n",
            "    \n",
            "    Parameters\n",
            "    ----------\n",
            "    shape : int or sequence of ints\n",
            "        Shape of the new array, e.g., ``(2, 3)`` or ``2``.\n",
            "    dtype : data-type, optional\n",
            "        The desired data-type for the array, e.g., `numpy.int8`.  Default is\n",
            "        `numpy.float64`.\n",
            "    order : {'C', 'F'}, optional, default: C\n",
            "        Whether to store multi-dimensional data in row-major\n",
            "        (C-style) or column-major (Fortran-style) order in\n",
            "        memory.\n",
            "    \n",
            "    Returns\n",
            "    -------\n",
            "    out : ndarray\n",
            "        Array of ones with the given shape, dtype, and order.\n",
            "    \n",
            "    See Also\n",
            "    --------\n",
            "    ones_like : Return an array of ones with shape and type of input.\n",
            "    empty : Return a new uninitialized array.\n",
            "    zeros : Return a new array setting values to zero.\n",
            "    full : Return a new array of given shape filled with value.\n",
            "    \n",
            "    \n",
            "    Examples\n",
            "    --------\n",
            "    >>> np.ones(5)\n",
            "    array([1., 1., 1., 1., 1.])\n",
            "    \n",
            "    >>> np.ones((5,), dtype=int)\n",
            "    array([1, 1, 1, 1, 1])\n",
            "    \n",
            "    >>> np.ones((2, 1))\n",
            "    array([[1.],\n",
            "           [1.]])\n",
            "    \n",
            "    >>> s = (2,2)\n",
            "    >>> np.ones(s)\n",
            "    array([[1.,  1.],\n",
            "           [1.,  1.]])\n",
            "\n"
          ],
          "name": "stdout"
        }
      ]
    },
    {
      "cell_type": "code",
      "metadata": {
        "colab": {
          "base_uri": "https://localhost:8080/"
        },
        "id": "VfnVsY6EDQGG",
        "outputId": "080a62ce-fec8-4a11-cad7-51905dbe581a"
      },
      "source": [
        "# creating a 1-D array of ones\n",
        "arr = np.ones(5)\n",
        "arr"
      ],
      "execution_count": null,
      "outputs": [
        {
          "output_type": "execute_result",
          "data": {
            "text/plain": [
              "array([1., 1., 1., 1., 1.])"
            ]
          },
          "metadata": {
            "tags": []
          },
          "execution_count": 3
        }
      ]
    },
    {
      "cell_type": "markdown",
      "metadata": {
        "id": "kmew_jKTD8-w"
      },
      "source": [
        "**Notice that, by default, numpy creates data type = float64**"
      ]
    },
    {
      "cell_type": "code",
      "metadata": {
        "colab": {
          "base_uri": "https://localhost:8080/"
        },
        "id": "NePBFG57D1vm",
        "outputId": "156c9198-3331-4ddc-9349-29a154307244"
      },
      "source": [
        "arr.dtype"
      ],
      "execution_count": null,
      "outputs": [
        {
          "output_type": "execute_result",
          "data": {
            "text/plain": [
              "dtype('float64')"
            ]
          },
          "metadata": {
            "tags": []
          },
          "execution_count": 4
        }
      ]
    },
    {
      "cell_type": "markdown",
      "metadata": {
        "id": "lmVVVMtpE-Iv"
      },
      "source": [
        "**we can provide dtype explicitly using dtype**"
      ]
    },
    {
      "cell_type": "code",
      "metadata": {
        "colab": {
          "base_uri": "https://localhost:8080/"
        },
        "id": "SHiyEUIuE9dC",
        "outputId": "69eaaf56-da7d-4117-aebd-771615e5d823"
      },
      "source": [
        "arr = np.ones(5, dtype = int)\n",
        "arr"
      ],
      "execution_count": null,
      "outputs": [
        {
          "output_type": "execute_result",
          "data": {
            "text/plain": [
              "array([1, 1, 1, 1, 1])"
            ]
          },
          "metadata": {
            "tags": []
          },
          "execution_count": 5
        }
      ]
    },
    {
      "cell_type": "markdown",
      "metadata": {
        "id": "kYMnDgfwFpFo"
      },
      "source": [
        "**Creating 5 x 3 array of ones**"
      ]
    },
    {
      "cell_type": "code",
      "metadata": {
        "colab": {
          "base_uri": "https://localhost:8080/"
        },
        "id": "gNwrmH9vELoJ",
        "outputId": "8133efa5-62fc-4e57-c208-abeb8b4a28b9"
      },
      "source": [
        "np.ones((5,3))"
      ],
      "execution_count": null,
      "outputs": [
        {
          "output_type": "execute_result",
          "data": {
            "text/plain": [
              "array([[1., 1., 1.],\n",
              "       [1., 1., 1.],\n",
              "       [1., 1., 1.],\n",
              "       [1., 1., 1.],\n",
              "       [1., 1., 1.]])"
            ]
          },
          "metadata": {
            "tags": []
          },
          "execution_count": 6
        }
      ]
    },
    {
      "cell_type": "markdown",
      "metadata": {
        "id": "Iol8Ywsc3jQc"
      },
      "source": [
        "**Creating arrays of zeros**"
      ]
    },
    {
      "cell_type": "code",
      "metadata": {
        "colab": {
          "base_uri": "https://localhost:8080/"
        },
        "id": "sRcb9y-73Uin",
        "outputId": "7b1bc9e6-728a-47e4-f73c-58b8b4bba308"
      },
      "source": [
        "np.zeros(5)"
      ],
      "execution_count": null,
      "outputs": [
        {
          "output_type": "execute_result",
          "data": {
            "text/plain": [
              "array([0., 0., 0., 0., 0.])"
            ]
          },
          "metadata": {
            "tags": []
          },
          "execution_count": 7
        }
      ]
    },
    {
      "cell_type": "code",
      "metadata": {
        "colab": {
          "base_uri": "https://localhost:8080/"
        },
        "id": "pLWSb7B-3Utm",
        "outputId": "fa0a19ce-3583-49d8-d26f-411cde4e764d"
      },
      "source": [
        "np.zeros(5, dtype=int)"
      ],
      "execution_count": null,
      "outputs": [
        {
          "output_type": "execute_result",
          "data": {
            "text/plain": [
              "array([0, 0, 0, 0, 0])"
            ]
          },
          "metadata": {
            "tags": []
          },
          "execution_count": 8
        }
      ]
    },
    {
      "cell_type": "code",
      "metadata": {
        "colab": {
          "base_uri": "https://localhost:8080/"
        },
        "id": "S0obZuvB36Cs",
        "outputId": "fb7b6a42-c09a-4399-8bc5-abd10951e6c2"
      },
      "source": [
        "# List library for crating range of 1 to 5\n",
        "list(range(5))"
      ],
      "execution_count": null,
      "outputs": [
        {
          "output_type": "execute_result",
          "data": {
            "text/plain": [
              "[0, 1, 2, 3, 4]"
            ]
          },
          "metadata": {
            "tags": []
          },
          "execution_count": 9
        }
      ]
    },
    {
      "cell_type": "code",
      "metadata": {
        "colab": {
          "base_uri": "https://localhost:8080/"
        },
        "id": "fWy5uMG836LA",
        "outputId": "82dba53f-122f-4b0b-f289-99a6e1e8c9fb"
      },
      "source": [
        "# Similar function in numpy is\n",
        "np.arange(5)"
      ],
      "execution_count": null,
      "outputs": [
        {
          "output_type": "execute_result",
          "data": {
            "text/plain": [
              "array([0, 1, 2, 3, 4])"
            ]
          },
          "metadata": {
            "tags": []
          },
          "execution_count": 10
        }
      ]
    },
    {
      "cell_type": "code",
      "metadata": {
        "colab": {
          "base_uri": "https://localhost:8080/"
        },
        "id": "4uwMgys-4Q9H",
        "outputId": "2b0ff7b2-9027-4116-e7bf-0b1e8b3228ef"
      },
      "source": [
        "# floating range\n",
        "np.arange(5.0)"
      ],
      "execution_count": null,
      "outputs": [
        {
          "output_type": "execute_result",
          "data": {
            "text/plain": [
              "array([0., 1., 2., 3., 4.])"
            ]
          },
          "metadata": {
            "tags": []
          },
          "execution_count": 11
        }
      ]
    },
    {
      "cell_type": "markdown",
      "metadata": {
        "id": "CUrrpGK84jK_"
      },
      "source": [
        "**Notice that 3 is included, 35 is not, as in standard python list**\n",
        "\n",
        "from 3 to 35 step of 2"
      ]
    },
    {
      "cell_type": "code",
      "metadata": {
        "colab": {
          "base_uri": "https://localhost:8080/"
        },
        "id": "IB-opSZY4REq",
        "outputId": "e74284fa-97a3-40d1-b05d-a251709e71f7"
      },
      "source": [
        "np.arange(3,35,2)"
      ],
      "execution_count": null,
      "outputs": [
        {
          "output_type": "execute_result",
          "data": {
            "text/plain": [
              "array([ 3,  5,  7,  9, 11, 13, 15, 17, 19, 21, 23, 25, 27, 29, 31, 33])"
            ]
          },
          "metadata": {
            "tags": []
          },
          "execution_count": 12
        }
      ]
    },
    {
      "cell_type": "code",
      "metadata": {
        "colab": {
          "base_uri": "https://localhost:8080/"
        },
        "id": "RFE0_pMD7-5j",
        "outputId": "43e6cb68-dd89-4d39-a574-720e476ee17e"
      },
      "source": [
        "# create random numpy array\n",
        "np.random.randint(2, size = 10)"
      ],
      "execution_count": null,
      "outputs": [
        {
          "output_type": "execute_result",
          "data": {
            "text/plain": [
              "array([0, 1, 0, 1, 0, 0, 0, 0, 0, 1])"
            ]
          },
          "metadata": {
            "tags": []
          },
          "execution_count": 14
        }
      ]
    },
    {
      "cell_type": "code",
      "metadata": {
        "colab": {
          "base_uri": "https://localhost:8080/"
        },
        "id": "g3fAi0gI8USE",
        "outputId": "c99ff6c1-6d3b-4bb9-b421-a87150a4edb9"
      },
      "source": [
        "np.random.randint(3,4, size = 10)   # here we want integer starting from 3 and ending at 4"
      ],
      "execution_count": null,
      "outputs": [
        {
          "output_type": "execute_result",
          "data": {
            "text/plain": [
              "array([3, 3, 3, 3, 3, 3, 3, 3, 3, 3])"
            ]
          },
          "metadata": {
            "tags": []
          },
          "execution_count": 15
        }
      ]
    },
    {
      "cell_type": "markdown",
      "metadata": {
        "id": "TFZT_-4B9RpH"
      },
      "source": [
        "**Array 'arange' Function**\n",
        "\n",
        "Description\n",
        "Create an array of first 10 multiples of 5 using the 'arange' function."
      ]
    },
    {
      "cell_type": "code",
      "metadata": {
        "colab": {
          "base_uri": "https://localhost:8080/"
        },
        "id": "jc96T7548jMO",
        "outputId": "f3a21d6c-2fc4-489a-d2dc-f82e456ba2ec"
      },
      "source": [
        "\n",
        "array_multipleof5 = np.arange(5,55,5)\n",
        "\n",
        "print(array_multipleof5)"
      ],
      "execution_count": null,
      "outputs": [
        {
          "output_type": "stream",
          "text": [
            "[ 5 10 15 20 25 30 35 40 45 50]\n"
          ],
          "name": "stdout"
        }
      ]
    },
    {
      "cell_type": "markdown",
      "metadata": {
        "id": "78_KKBcb--FE"
      },
      "source": [
        "**2D Array of random numbers**"
      ]
    },
    {
      "cell_type": "code",
      "metadata": {
        "colab": {
          "base_uri": "https://localhost:8080/"
        },
        "id": "XXgt-SZL_KHh",
        "outputId": "980bd91a-f116-4db0-f565-f060ac7746b2"
      },
      "source": [
        "# This will create a 2D numpy arrays in 3 rows , 4 columns in float\n",
        "# we use numpy.random.random to create floating point random nos\n",
        "np.random.random([3,4])"
      ],
      "execution_count": null,
      "outputs": [
        {
          "output_type": "execute_result",
          "data": {
            "text/plain": [
              "array([[0.21041918, 0.52097462, 0.90825339, 0.09230169],\n",
              "       [0.19410434, 0.49982833, 0.28253731, 0.87750257],\n",
              "       [0.08273422, 0.78417344, 0.60607308, 0.80002953]])"
            ]
          },
          "metadata": {
            "tags": []
          },
          "execution_count": 22
        }
      ]
    },
    {
      "cell_type": "markdown",
      "metadata": {
        "id": "ycHrUQO1Kr0K"
      },
      "source": [
        "**Sometimes you know the length of the array and not the step size**\n",
        "\n",
        "Array of length 20 between 1 and 10"
      ]
    },
    {
      "cell_type": "code",
      "metadata": {
        "colab": {
          "base_uri": "https://localhost:8080/"
        },
        "id": "dpw2MavX_KX_",
        "outputId": "d26991bd-72e5-4ea6-99e1-9b1c554390ab"
      },
      "source": [
        "# when we use linspace 1st we give start and stop and the length and the size mentioned\n",
        "# below is a 1D numpy array ot a 2D array as ther is no rows and columns\n",
        "\n",
        "np.linspace(1,10,20)"
      ],
      "execution_count": null,
      "outputs": [
        {
          "output_type": "execute_result",
          "data": {
            "text/plain": [
              "array([ 1.        ,  1.47368421,  1.94736842,  2.42105263,  2.89473684,\n",
              "        3.36842105,  3.84210526,  4.31578947,  4.78947368,  5.26315789,\n",
              "        5.73684211,  6.21052632,  6.68421053,  7.15789474,  7.63157895,\n",
              "        8.10526316,  8.57894737,  9.05263158,  9.52631579, 10.        ])"
            ]
          },
          "metadata": {
            "tags": []
          },
          "execution_count": 23
        }
      ]
    }
  ]
}