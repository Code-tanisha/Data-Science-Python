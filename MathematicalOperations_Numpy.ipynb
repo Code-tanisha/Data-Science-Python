{
  "nbformat": 4,
  "nbformat_minor": 0,
  "metadata": {
    "colab": {
      "name": "MathematicalOperations_Numpy.ipynb",
      "provenance": [],
      "authorship_tag": "ABX9TyOGa5VwdcUd6qwGnL0zsy0h",
      "include_colab_link": true
    },
    "kernelspec": {
      "name": "python3",
      "display_name": "Python 3"
    },
    "language_info": {
      "name": "python"
    }
  },
  "cells": [
    {
      "cell_type": "markdown",
      "metadata": {
        "id": "view-in-github",
        "colab_type": "text"
      },
      "source": [
        "<a href=\"https://colab.research.google.com/github/Code-tanisha/Data-Science-Python/blob/master/MathematicalOperations_Numpy.ipynb\" target=\"_parent\"><img src=\"https://colab.research.google.com/assets/colab-badge.svg\" alt=\"Open In Colab\"/></a>"
      ]
    },
    {
      "cell_type": "markdown",
      "metadata": {
        "id": "8W2dvQs62gpH"
      },
      "source": [
        "## Operations on NumPy Arrays\n",
        "\n",
        "The learning objectives of this section are:\n",
        "\n",
        "Manipulate arrays\n",
        "\n",
        "    Reshape arrays\n",
        "\n",
        "    Stack arrays\n",
        "\n",
        "Perform operations on arrays\n",
        "\n",
        "    Perform basic mathematical operations\n",
        "\n",
        "    Apply built-in functions\n",
        "\n",
        "    Apply your own functions\n",
        "\n",
        "    Apply basic linear algebra operations\n"
      ]
    },
    {
      "cell_type": "code",
      "metadata": {
        "id": "sEhwKrK52mLk"
      },
      "source": [
        "import numpy as np"
      ],
      "execution_count": 22,
      "outputs": []
    },
    {
      "cell_type": "code",
      "metadata": {
        "colab": {
          "base_uri": "https://localhost:8080/"
        },
        "id": "J-9jaLZ123Ns",
        "outputId": "35006808-529c-47a4-eb89-5b008797267f"
      },
      "source": [
        "# We will create 2 numpy arrays\n",
        "array1 = np.array([10, 20, 30, 40, 50])\n",
        "array2 =np.arange(5)\n",
        "array1\n"
      ],
      "execution_count": 23,
      "outputs": [
        {
          "output_type": "execute_result",
          "data": {
            "text/plain": [
              "array([10, 20, 30, 40, 50])"
            ]
          },
          "metadata": {
            "tags": []
          },
          "execution_count": 23
        }
      ]
    },
    {
      "cell_type": "code",
      "metadata": {
        "colab": {
          "base_uri": "https://localhost:8080/"
        },
        "id": "nc6GMZdN4Eus",
        "outputId": "853f6285-21f7-47fa-d59b-f434743b7a64"
      },
      "source": [
        "array2"
      ],
      "execution_count": 24,
      "outputs": [
        {
          "output_type": "execute_result",
          "data": {
            "text/plain": [
              "array([0, 1, 2, 3, 4])"
            ]
          },
          "metadata": {
            "tags": []
          },
          "execution_count": 24
        }
      ]
    },
    {
      "cell_type": "code",
      "metadata": {
        "colab": {
          "base_uri": "https://localhost:8080/"
        },
        "id": "cBIapBpS4JIs",
        "outputId": "02fc1045-e79d-409e-92ad-1b8ed650bea6"
      },
      "source": [
        "array3 = array1 + array2\n",
        "array3"
      ],
      "execution_count": 25,
      "outputs": [
        {
          "output_type": "execute_result",
          "data": {
            "text/plain": [
              "array([10, 21, 32, 43, 54])"
            ]
          },
          "metadata": {
            "tags": []
          },
          "execution_count": 25
        }
      ]
    },
    {
      "cell_type": "code",
      "metadata": {
        "colab": {
          "base_uri": "https://localhost:8080/"
        },
        "id": "6xjUs53c4WBK",
        "outputId": "51d573c0-5e2b-46f2-acb2-8586b29031fe"
      },
      "source": [
        "# Example\n",
        "array = np.linspace(1,10,5)\n",
        "array"
      ],
      "execution_count": 26,
      "outputs": [
        {
          "output_type": "execute_result",
          "data": {
            "text/plain": [
              "array([ 1.  ,  3.25,  5.5 ,  7.75, 10.  ])"
            ]
          },
          "metadata": {
            "tags": []
          },
          "execution_count": 26
        }
      ]
    },
    {
      "cell_type": "markdown",
      "metadata": {
        "id": "SfRh8JOGW2Gl"
      },
      "source": [
        "### Stacking Arrays\n",
        "\n",
        "##### np.hstack() and n.vstack()\n",
        "\n",
        "Stacking is done using the np.hstack() and np.vstack() methods. For horizontal stacking, the number of rows should be the same, while for vertical stacking, the number of columns should be the same.\n"
      ]
    },
    {
      "cell_type": "code",
      "metadata": {
        "id": "HLMM8yXcS5Xo",
        "colab": {
          "base_uri": "https://localhost:8080/"
        },
        "outputId": "d1d754b6-f635-4913-f80f-76fed037fe99"
      },
      "source": [
        "# Note that np.hstack(a, b) throws an error - you need to pass the arrays as a list\n",
        "\n",
        "a = np.array([1,2,3])\n",
        "b = np.array([2,3,4])\n",
        "np.hstack((a,b))"
      ],
      "execution_count": 27,
      "outputs": [
        {
          "output_type": "execute_result",
          "data": {
            "text/plain": [
              "array([1, 2, 3, 2, 3, 4])"
            ]
          },
          "metadata": {
            "tags": []
          },
          "execution_count": 27
        }
      ]
    },
    {
      "cell_type": "code",
      "metadata": {
        "colab": {
          "base_uri": "https://localhost:8080/"
        },
        "id": "P-P4eTcbHdZm",
        "outputId": "f797bdf2-b155-493a-f1b5-bda7592502eb"
      },
      "source": [
        "np.vstack((a,b))"
      ],
      "execution_count": 28,
      "outputs": [
        {
          "output_type": "execute_result",
          "data": {
            "text/plain": [
              "array([[1, 2, 3],\n",
              "       [2, 3, 4]])"
            ]
          },
          "metadata": {
            "tags": []
          },
          "execution_count": 28
        }
      ]
    },
    {
      "cell_type": "code",
      "metadata": {
        "colab": {
          "base_uri": "https://localhost:8080/"
        },
        "id": "Ag9foABWH5Fr",
        "outputId": "fd41f02d-73d2-4d02-ac73-c1dd8d8cce49"
      },
      "source": [
        "np.arange(12)"
      ],
      "execution_count": 29,
      "outputs": [
        {
          "output_type": "execute_result",
          "data": {
            "text/plain": [
              "array([ 0,  1,  2,  3,  4,  5,  6,  7,  8,  9, 10, 11])"
            ]
          },
          "metadata": {
            "tags": []
          },
          "execution_count": 29
        }
      ]
    },
    {
      "cell_type": "code",
      "metadata": {
        "colab": {
          "base_uri": "https://localhost:8080/"
        },
        "id": "XRInMX5XH7zr",
        "outputId": "84de93d2-9dd3-4476-8471-def220ea762b"
      },
      "source": [
        "# Now if we want to create a 2D aaray of shape 3 x 4\n",
        "np.arange(12).reshape(3,4)"
      ],
      "execution_count": 30,
      "outputs": [
        {
          "output_type": "execute_result",
          "data": {
            "text/plain": [
              "array([[ 0,  1,  2,  3],\n",
              "       [ 4,  5,  6,  7],\n",
              "       [ 8,  9, 10, 11]])"
            ]
          },
          "metadata": {
            "tags": []
          },
          "execution_count": 30
        }
      ]
    },
    {
      "cell_type": "code",
      "metadata": {
        "colab": {
          "base_uri": "https://localhost:8080/"
        },
        "id": "pPC2w-dXJ5bz",
        "outputId": "8f4ac1af-404b-4f3c-93a6-76993f83f18b"
      },
      "source": [
        "array1 = np.arange(12).reshape(3,4)\n",
        "array2 = np.arange(20).reshape(5,4)\n",
        "print(array1)\n",
        "print(array2)"
      ],
      "execution_count": 31,
      "outputs": [
        {
          "output_type": "stream",
          "text": [
            "[[ 0  1  2  3]\n",
            " [ 4  5  6  7]\n",
            " [ 8  9 10 11]]\n",
            "[[ 0  1  2  3]\n",
            " [ 4  5  6  7]\n",
            " [ 8  9 10 11]\n",
            " [12 13 14 15]\n",
            " [16 17 18 19]]\n"
          ],
          "name": "stdout"
        }
      ]
    },
    {
      "cell_type": "code",
      "metadata": {
        "colab": {
          "base_uri": "https://localhost:8080/"
        },
        "id": "_OZpwRegKWDu",
        "outputId": "e396bac9-6f23-4b8e-8a34-2d453a5ef84f"
      },
      "source": [
        "# now if we apply vertical stack\n",
        "np.vstack((array1, array2))"
      ],
      "execution_count": 32,
      "outputs": [
        {
          "output_type": "execute_result",
          "data": {
            "text/plain": [
              "array([[ 0,  1,  2,  3],\n",
              "       [ 4,  5,  6,  7],\n",
              "       [ 8,  9, 10, 11],\n",
              "       [ 0,  1,  2,  3],\n",
              "       [ 4,  5,  6,  7],\n",
              "       [ 8,  9, 10, 11],\n",
              "       [12, 13, 14, 15],\n",
              "       [16, 17, 18, 19]])"
            ]
          },
          "metadata": {
            "tags": []
          },
          "execution_count": 32
        }
      ]
    },
    {
      "cell_type": "code",
      "metadata": {
        "colab": {
          "base_uri": "https://localhost:8080/"
        },
        "id": "5TCrbABUNByc",
        "outputId": "7768cecf-a558-433b-c31b-26d7c19ca78f"
      },
      "source": [
        "# From 2-D Araay it converted to 1D\n",
        "p = [[1, 5],[3, 7],[4, 9]]\n",
        "np.reshape(p,-1)"
      ],
      "execution_count": 33,
      "outputs": [
        {
          "output_type": "execute_result",
          "data": {
            "text/plain": [
              "array([1, 5, 3, 7, 4, 9])"
            ]
          },
          "metadata": {
            "tags": []
          },
          "execution_count": 33
        }
      ]
    },
    {
      "cell_type": "code",
      "metadata": {
        "colab": {
          "base_uri": "https://localhost:8080/"
        },
        "id": "aLOKOOvWNYl8",
        "outputId": "da760260-88a0-4a78-b2aa-07aaa5c7e1cd"
      },
      "source": [
        "np.reshape(p, (1, -1))"
      ],
      "execution_count": 34,
      "outputs": [
        {
          "output_type": "execute_result",
          "data": {
            "text/plain": [
              "array([[1, 5, 3, 7, 4, 9]])"
            ]
          },
          "metadata": {
            "tags": []
          },
          "execution_count": 34
        }
      ]
    },
    {
      "cell_type": "markdown",
      "metadata": {
        "id": "AKSI_SQ1QTFA"
      },
      "source": [
        "**Stacking arrays**\n",
        "Description\n",
        "Merge the three arrays provided to you to form a one 4x4 array.\n",
        "\n",
        "[Hint: Check the function np.transpose() in the 'Manipulating Arrays' notebook provided.]\n",
        "\n",
        "Input:\n",
        "Array 1: 3*3\n",
        "\n",
        "[[7, 13, 14]\n",
        "\n",
        "[18, 10, 17]\n",
        "\n",
        "[11, 12, 19]]\n",
        "\n",
        "Array 2: 1-D array\n",
        "\n",
        "[16, 6, 1]\n",
        "\n",
        "Array 3: 1*4 array\n",
        "\n",
        "[[5, 8, 4, 3]]\n",
        "\n",
        "Output:\n",
        "\n",
        "[[7 13 14 5]\n",
        "\n",
        "[18 10 17 8]\n",
        "\n",
        "[11 12 19 4]\n",
        "\n",
        "[16 6 1 3]]"
      ]
    },
    {
      "cell_type": "code",
      "metadata": {
        "colab": {
          "base_uri": "https://localhost:8080/"
        },
        "id": "GthBf3VlQQoq",
        "outputId": "a08d439a-f0d4-458f-f288-5549b9702a9c"
      },
      "source": [
        "list_1 = [[7,13,14],[18,10,17],[11,12,19]]\n",
        "list_2 = [16,6,1]\n",
        "list_3 = [[5,8,4,3]]\n",
        "\n",
        "final_array = np.hstack([np.vstack([np.array(list_1),np.array(list_2)]), np.transpose(np.array(list_3))])\n",
        "print(final_array)"
      ],
      "execution_count": 35,
      "outputs": [
        {
          "output_type": "stream",
          "text": [
            "[[ 7 13 14  5]\n",
            " [18 10 17  8]\n",
            " [11 12 19  4]\n",
            " [16  6  1  3]]\n"
          ],
          "name": "stdout"
        }
      ]
    },
    {
      "cell_type": "markdown",
      "metadata": {
        "id": "gZKxOuhHX8dr"
      },
      "source": [
        "**  NUMPY BUILT IN OPERATIONS**"
      ]
    },
    {
      "cell_type": "code",
      "metadata": {
        "colab": {
          "base_uri": "https://localhost:8080/"
        },
        "id": "puEK7qw2YAnN",
        "outputId": "92d23ea4-4a17-4ecd-bae9-a0f03d15420e"
      },
      "source": [
        "array1"
      ],
      "execution_count": 36,
      "outputs": [
        {
          "output_type": "execute_result",
          "data": {
            "text/plain": [
              "array([[ 0,  1,  2,  3],\n",
              "       [ 4,  5,  6,  7],\n",
              "       [ 8,  9, 10, 11]])"
            ]
          },
          "metadata": {
            "tags": []
          },
          "execution_count": 36
        }
      ]
    },
    {
      "cell_type": "code",
      "metadata": {
        "colab": {
          "base_uri": "https://localhost:8080/"
        },
        "id": "cyJpYSPJhzMj",
        "outputId": "941cb042-e9db-4d79-8556-92d53685a599"
      },
      "source": [
        "np.power(array1, 3)"
      ],
      "execution_count": 37,
      "outputs": [
        {
          "output_type": "execute_result",
          "data": {
            "text/plain": [
              "array([[   0,    1,    8,   27],\n",
              "       [  64,  125,  216,  343],\n",
              "       [ 512,  729, 1000, 1331]])"
            ]
          },
          "metadata": {
            "tags": []
          },
          "execution_count": 37
        }
      ]
    },
    {
      "cell_type": "code",
      "metadata": {
        "colab": {
          "base_uri": "https://localhost:8080/"
        },
        "id": "98zVQ7xfiE86",
        "outputId": "1c6546dc-763b-48a6-fe99-ba7664e6a964"
      },
      "source": [
        "np.arange(9).reshape(3,3)"
      ],
      "execution_count": 38,
      "outputs": [
        {
          "output_type": "execute_result",
          "data": {
            "text/plain": [
              "array([[0, 1, 2],\n",
              "       [3, 4, 5],\n",
              "       [6, 7, 8]])"
            ]
          },
          "metadata": {
            "tags": []
          },
          "execution_count": 38
        }
      ]
    },
    {
      "cell_type": "code",
      "metadata": {
        "colab": {
          "base_uri": "https://localhost:8080/"
        },
        "id": "bae7APurl2Xe",
        "outputId": "a3d96939-c47f-4e97-e190-b4891bd4cf54"
      },
      "source": [
        "x = np.array([-2,-1,0,1,2])\n",
        "x"
      ],
      "execution_count": 39,
      "outputs": [
        {
          "output_type": "execute_result",
          "data": {
            "text/plain": [
              "array([-2, -1,  0,  1,  2])"
            ]
          },
          "metadata": {
            "tags": []
          },
          "execution_count": 39
        }
      ]
    },
    {
      "cell_type": "code",
      "metadata": {
        "colab": {
          "base_uri": "https://localhost:8080/"
        },
        "id": "S3XcHZ54l_rt",
        "outputId": "6eaaa3b7-9c52-4ffe-af2d-27d53182ee29"
      },
      "source": [
        "# converting every value to apsolute value\n",
        "abs(x)"
      ],
      "execution_count": 40,
      "outputs": [
        {
          "output_type": "execute_result",
          "data": {
            "text/plain": [
              "array([2, 1, 0, 1, 2])"
            ]
          },
          "metadata": {
            "tags": []
          },
          "execution_count": 40
        }
      ]
    },
    {
      "cell_type": "code",
      "metadata": {
        "colab": {
          "base_uri": "https://localhost:8080/"
        },
        "id": "yB7KL5AfmZMZ",
        "outputId": "827849b2-b946-49f6-9b8c-bf4ad735b336"
      },
      "source": [
        "# or\n",
        "np.absolute(x)"
      ],
      "execution_count": 41,
      "outputs": [
        {
          "output_type": "execute_result",
          "data": {
            "text/plain": [
              "array([2, 1, 0, 1, 2])"
            ]
          },
          "metadata": {
            "tags": []
          },
          "execution_count": 41
        }
      ]
    },
    {
      "cell_type": "markdown",
      "metadata": {
        "id": "dx2VEDrJprsJ"
      },
      "source": [
        "## **Trignomentry Functions**"
      ]
    },
    {
      "cell_type": "code",
      "metadata": {
        "colab": {
          "base_uri": "https://localhost:8080/"
        },
        "id": "2F_Gt7CQuOAs",
        "outputId": "b4f7ea4e-7da9-497c-da2b-bfacf3c35d2a"
      },
      "source": [
        "np.pi"
      ],
      "execution_count": 42,
      "outputs": [
        {
          "output_type": "execute_result",
          "data": {
            "text/plain": [
              "3.141592653589793"
            ]
          },
          "metadata": {
            "tags": []
          },
          "execution_count": 42
        }
      ]
    },
    {
      "cell_type": "code",
      "metadata": {
        "colab": {
          "base_uri": "https://localhost:8080/"
        },
        "id": "7YqQKAlz2jen",
        "outputId": "e405bb99-31e8-4df7-e441-dad50014e2c7"
      },
      "source": [
        "# now if we want to divide the pi ie divide 0 to 3.14 into 5 equally spaced values\n",
        "theta = np.linspace(0, np.pi, 5)\n",
        "theta"
      ],
      "execution_count": 43,
      "outputs": [
        {
          "output_type": "execute_result",
          "data": {
            "text/plain": [
              "array([0.        , 0.78539816, 1.57079633, 2.35619449, 3.14159265])"
            ]
          },
          "metadata": {
            "tags": []
          },
          "execution_count": 43
        }
      ]
    },
    {
      "cell_type": "code",
      "metadata": {
        "colab": {
          "base_uri": "https://localhost:8080/"
        },
        "id": "mGQbrozA24cz",
        "outputId": "7d688dd2-8081-41ef-8526-22f7f2c169fd"
      },
      "source": [
        "np.sin(theta)"
      ],
      "execution_count": 44,
      "outputs": [
        {
          "output_type": "execute_result",
          "data": {
            "text/plain": [
              "array([0.00000000e+00, 7.07106781e-01, 1.00000000e+00, 7.07106781e-01,\n",
              "       1.22464680e-16])"
            ]
          },
          "metadata": {
            "tags": []
          },
          "execution_count": 44
        }
      ]
    },
    {
      "cell_type": "code",
      "metadata": {
        "colab": {
          "base_uri": "https://localhost:8080/"
        },
        "id": "ZQS3sUdT3a3D",
        "outputId": "c8bb624d-06e4-4186-93fd-dca3187a9174"
      },
      "source": [
        "np.cos(theta)"
      ],
      "execution_count": 45,
      "outputs": [
        {
          "output_type": "execute_result",
          "data": {
            "text/plain": [
              "array([ 1.00000000e+00,  7.07106781e-01,  6.12323400e-17, -7.07106781e-01,\n",
              "       -1.00000000e+00])"
            ]
          },
          "metadata": {
            "tags": []
          },
          "execution_count": 45
        }
      ]
    },
    {
      "cell_type": "markdown",
      "metadata": {
        "id": "y_1Eb1Xt3rVh"
      },
      "source": [
        "#### Exponential & Logarithmic functions"
      ]
    },
    {
      "cell_type": "code",
      "metadata": {
        "id": "pFQJRxK63wa9"
      },
      "source": [
        "x = [1,2,3,10]\n",
        "x = np.array(x)"
      ],
      "execution_count": 46,
      "outputs": []
    },
    {
      "cell_type": "code",
      "metadata": {
        "colab": {
          "base_uri": "https://localhost:8080/"
        },
        "id": "criTZQie4B4w",
        "outputId": "81b3a27f-0f6b-488e-f380-e2f859fceefa"
      },
      "source": [
        "np.exp(x)"
      ],
      "execution_count": 47,
      "outputs": [
        {
          "output_type": "execute_result",
          "data": {
            "text/plain": [
              "array([2.71828183e+00, 7.38905610e+00, 2.00855369e+01, 2.20264658e+04])"
            ]
          },
          "metadata": {
            "tags": []
          },
          "execution_count": 47
        }
      ]
    },
    {
      "cell_type": "code",
      "metadata": {
        "colab": {
          "base_uri": "https://localhost:8080/"
        },
        "id": "FmrvwpE-5p1T",
        "outputId": "c3cab5ad-0106-4b2f-833d-29fe40b01404"
      },
      "source": [
        "np.power(x,3)"
      ],
      "execution_count": 48,
      "outputs": [
        {
          "output_type": "execute_result",
          "data": {
            "text/plain": [
              "array([   1,    8,   27, 1000])"
            ]
          },
          "metadata": {
            "tags": []
          },
          "execution_count": 48
        }
      ]
    },
    {
      "cell_type": "code",
      "metadata": {
        "colab": {
          "base_uri": "https://localhost:8080/"
        },
        "id": "6SzPXCHq6JAp",
        "outputId": "1f9ba282-9867-46a2-cc07-c61c3a12add3"
      },
      "source": [
        "np.log(x)"
      ],
      "execution_count": 49,
      "outputs": [
        {
          "output_type": "execute_result",
          "data": {
            "text/plain": [
              "array([0.        , 0.69314718, 1.09861229, 2.30258509])"
            ]
          },
          "metadata": {
            "tags": []
          },
          "execution_count": 49
        }
      ]
    },
    {
      "cell_type": "code",
      "metadata": {
        "colab": {
          "base_uri": "https://localhost:8080/"
        },
        "id": "lzstBUpv6fXU",
        "outputId": "36c563d9-13f5-4560-9543-30f15012d444"
      },
      "source": [
        "np.log2(x)"
      ],
      "execution_count": 50,
      "outputs": [
        {
          "output_type": "execute_result",
          "data": {
            "text/plain": [
              "array([0.        , 1.        , 1.5849625 , 3.32192809])"
            ]
          },
          "metadata": {
            "tags": []
          },
          "execution_count": 50
        }
      ]
    },
    {
      "cell_type": "code",
      "metadata": {
        "colab": {
          "base_uri": "https://localhost:8080/"
        },
        "id": "rejfwqmZ6slC",
        "outputId": "1c9f496f-758b-4fdc-c165-f6abf7daf560"
      },
      "source": [
        "np.log10(x)"
      ],
      "execution_count": 51,
      "outputs": [
        {
          "output_type": "execute_result",
          "data": {
            "text/plain": [
              "array([0.        , 0.30103   , 0.47712125, 1.        ])"
            ]
          },
          "metadata": {
            "tags": []
          },
          "execution_count": 51
        }
      ]
    },
    {
      "cell_type": "markdown",
      "metadata": {
        "id": "dV3_YBNX7Be3"
      },
      "source": [
        "**EXAMPLE**"
      ]
    },
    {
      "cell_type": "code",
      "metadata": {
        "colab": {
          "base_uri": "https://localhost:8080/"
        },
        "id": "Bm3xvHfM7ED0",
        "outputId": "26756820-0751-45cc-cac1-22007447ff47"
      },
      "source": [
        "x = np.arange(5)\n",
        "x"
      ],
      "execution_count": 52,
      "outputs": [
        {
          "output_type": "execute_result",
          "data": {
            "text/plain": [
              "array([0, 1, 2, 3, 4])"
            ]
          },
          "metadata": {
            "tags": []
          },
          "execution_count": 52
        }
      ]
    },
    {
      "cell_type": "code",
      "metadata": {
        "colab": {
          "base_uri": "https://localhost:8080/"
        },
        "id": "j3CIw3JV7Obk",
        "outputId": "a9ec2fd2-359a-4686-c33d-ab0b6a35e745"
      },
      "source": [
        "# we can also create empty numpy array and the values which we gat are randomly initialized and they dont have any value\n",
        "y = np.empty(5)\n",
        "y"
      ],
      "execution_count": 53,
      "outputs": [
        {
          "output_type": "execute_result",
          "data": {
            "text/plain": [
              "array([ 1.00000000e+00,  7.07106781e-01,  6.12323400e-17, -7.07106781e-01,\n",
              "       -1.00000000e+00])"
            ]
          },
          "metadata": {
            "tags": []
          },
          "execution_count": 53
        }
      ]
    },
    {
      "cell_type": "code",
      "metadata": {
        "colab": {
          "base_uri": "https://localhost:8080/"
        },
        "id": "wcC1ci9w7ujU",
        "outputId": "a7aa45d9-4420-406b-f3ba-3fcd6a0d3a0d"
      },
      "source": [
        "y = x * 10\n",
        "y"
      ],
      "execution_count": 54,
      "outputs": [
        {
          "output_type": "execute_result",
          "data": {
            "text/plain": [
              "array([ 0, 10, 20, 30, 40])"
            ]
          },
          "metadata": {
            "tags": []
          },
          "execution_count": 54
        }
      ]
    },
    {
      "cell_type": "code",
      "metadata": {
        "colab": {
          "base_uri": "https://localhost:8080/"
        },
        "id": "B9rlafJ38S9K",
        "outputId": "c63d1421-4e92-4508-d974-7f37cfaa92db"
      },
      "source": [
        "# Another way of multiplying which meand multiplying all the values of x with 12 and storing it in y\n",
        "np.multiply(x, 12, out = y)"
      ],
      "execution_count": 55,
      "outputs": [
        {
          "output_type": "execute_result",
          "data": {
            "text/plain": [
              "array([ 0, 12, 24, 36, 48])"
            ]
          },
          "metadata": {
            "tags": []
          },
          "execution_count": 55
        }
      ]
    },
    {
      "cell_type": "code",
      "metadata": {
        "colab": {
          "base_uri": "https://localhost:8080/"
        },
        "id": "VsNnUSx18lDT",
        "outputId": "1f6833e4-8742-4d5c-cc68-8f0b3ccf76bb"
      },
      "source": [
        "y = np.zeros(10)\n",
        "y"
      ],
      "execution_count": 56,
      "outputs": [
        {
          "output_type": "execute_result",
          "data": {
            "text/plain": [
              "array([0., 0., 0., 0., 0., 0., 0., 0., 0., 0.])"
            ]
          },
          "metadata": {
            "tags": []
          },
          "execution_count": 56
        }
      ]
    },
    {
      "cell_type": "code",
      "metadata": {
        "colab": {
          "base_uri": "https://localhost:8080/",
          "height": 197
        },
        "id": "dnAvmZZN9LJZ",
        "outputId": "2fc9f657-23f4-43a6-cfe5-08c1c3efd242"
      },
      "source": [
        "# here we want power of all the element and store it in y\n",
        "# but this will give an erroe becoz x is of size 5 and we want to store it in a numpy array of size 10\n",
        "\n",
        "np.power(2,x,out=y)"
      ],
      "execution_count": 57,
      "outputs": [
        {
          "output_type": "error",
          "ename": "ValueError",
          "evalue": "ignored",
          "traceback": [
            "\u001b[0;31m---------------------------------------------------------------------------\u001b[0m",
            "\u001b[0;31mValueError\u001b[0m                                Traceback (most recent call last)",
            "\u001b[0;32m<ipython-input-57-2bd0479444cf>\u001b[0m in \u001b[0;36m<module>\u001b[0;34m()\u001b[0m\n\u001b[1;32m      2\u001b[0m \u001b[0;31m# but this will give an erroe becoz x is of size 5 and we want to store it in a numpy array of size 10\u001b[0m\u001b[0;34m\u001b[0m\u001b[0;34m\u001b[0m\u001b[0;34m\u001b[0m\u001b[0m\n\u001b[1;32m      3\u001b[0m \u001b[0;34m\u001b[0m\u001b[0m\n\u001b[0;32m----> 4\u001b[0;31m \u001b[0mnp\u001b[0m\u001b[0;34m.\u001b[0m\u001b[0mpower\u001b[0m\u001b[0;34m(\u001b[0m\u001b[0;36m2\u001b[0m\u001b[0;34m,\u001b[0m\u001b[0mx\u001b[0m\u001b[0;34m,\u001b[0m\u001b[0mout\u001b[0m\u001b[0;34m=\u001b[0m\u001b[0my\u001b[0m\u001b[0;34m)\u001b[0m\u001b[0;34m\u001b[0m\u001b[0;34m\u001b[0m\u001b[0m\n\u001b[0m",
            "\u001b[0;31mValueError\u001b[0m: operands could not be broadcast together with shapes () (5,) (10,) "
          ]
        }
      ]
    },
    {
      "cell_type": "code",
      "metadata": {
        "id": "-zu2iYbw9wZv"
      },
      "source": [
        "# but if we want to store the square of x in every other element of y then\n",
        "np.power(2,x,out=y[::2])"
      ],
      "execution_count": null,
      "outputs": []
    },
    {
      "cell_type": "code",
      "metadata": {
        "id": "gJpE3k8e-7RQ"
      },
      "source": [
        "# now y is filled with x on every other element\n",
        "y"
      ],
      "execution_count": null,
      "outputs": []
    },
    {
      "cell_type": "markdown",
      "metadata": {
        "id": "VDE5LEzI_yfJ"
      },
      "source": [
        "### Aggregate"
      ]
    },
    {
      "cell_type": "code",
      "metadata": {
        "colab": {
          "base_uri": "https://localhost:8080/"
        },
        "id": "RpnNQm0L_0RT",
        "outputId": "cc6f1f0e-810c-42b1-c9d4-f276e6c34487"
      },
      "source": [
        "x = np.arange(1,6)\n",
        "x"
      ],
      "execution_count": 58,
      "outputs": [
        {
          "output_type": "execute_result",
          "data": {
            "text/plain": [
              "array([1, 2, 3, 4, 5])"
            ]
          },
          "metadata": {
            "tags": []
          },
          "execution_count": 58
        }
      ]
    },
    {
      "cell_type": "code",
      "metadata": {
        "colab": {
          "base_uri": "https://localhost:8080/"
        },
        "id": "Si-y_DpQACFK",
        "outputId": "95a9852e-bd16-4c7d-e730-405dd5062619"
      },
      "source": [
        "# Now if we want to sum all the falues of the numpy array\n",
        "np.add.reduce(x)"
      ],
      "execution_count": 59,
      "outputs": [
        {
          "output_type": "execute_result",
          "data": {
            "text/plain": [
              "15"
            ]
          },
          "metadata": {
            "tags": []
          },
          "execution_count": 59
        }
      ]
    },
    {
      "cell_type": "code",
      "metadata": {
        "colab": {
          "base_uri": "https://localhost:8080/"
        },
        "id": "ZZG5T3ZxAN1W",
        "outputId": "0458ebbf-b56f-4739-9c00-7c189532e38d"
      },
      "source": [
        "# Accumulate fucntion will add the no one after the other and saving the result in the place ie. 1, 1+2, 1+2+3, ...\n",
        "np.add.accumulate(x)"
      ],
      "execution_count": 60,
      "outputs": [
        {
          "output_type": "execute_result",
          "data": {
            "text/plain": [
              "array([ 1,  3,  6, 10, 15])"
            ]
          },
          "metadata": {
            "tags": []
          },
          "execution_count": 60
        }
      ]
    },
    {
      "cell_type": "code",
      "metadata": {
        "colab": {
          "base_uri": "https://localhost:8080/"
        },
        "id": "94fEhPcBA_AW",
        "outputId": "59f23729-3b2b-4241-c5dc-438a975c1a94"
      },
      "source": [
        "np.multiply.accumulate(x)"
      ],
      "execution_count": 61,
      "outputs": [
        {
          "output_type": "execute_result",
          "data": {
            "text/plain": [
              "array([  1,   2,   6,  24, 120])"
            ]
          },
          "metadata": {
            "tags": []
          },
          "execution_count": 61
        }
      ]
    },
    {
      "cell_type": "markdown",
      "metadata": {
        "id": "G9WqvCRgN588"
      },
      "source": [
        "#### APPLYING BASIC LINEAR ALGEBRA OPREATIONS\n",
        "\n",
        "numpy provides the np.linalg package to apply comman linear algebra function\n",
        "\n",
        "np.linalg.inv : inverse if a matrix.\n",
        "\n",
        "np.linalg.det : Determinant of a matrix.\n",
        "\n",
        "np.linalg.eig : Eigenvalues and eigenvectiors of a matrix.\n",
        "\n",
        "You can also multiply matrices using np.dot(a,b)\n"
      ]
    },
    {
      "cell_type": "code",
      "metadata": {
        "colab": {
          "base_uri": "https://localhost:8080/"
        },
        "id": "3y4VOh2ZBMe3",
        "outputId": "50cbfbe5-51ce-48bb-8427-cddcff2556fc"
      },
      "source": [
        "A = np.array([[6,1,1],[4,-2,5],[2,8,7]])\n",
        "A"
      ],
      "execution_count": 62,
      "outputs": [
        {
          "output_type": "execute_result",
          "data": {
            "text/plain": [
              "array([[ 6,  1,  1],\n",
              "       [ 4, -2,  5],\n",
              "       [ 2,  8,  7]])"
            ]
          },
          "metadata": {
            "tags": []
          },
          "execution_count": 62
        }
      ]
    },
    {
      "cell_type": "code",
      "metadata": {
        "colab": {
          "base_uri": "https://localhost:8080/"
        },
        "id": "hbd_hYIzQ4cI",
        "outputId": "7ddc79d5-e31e-415f-d0e6-b04b14602d80"
      },
      "source": [
        "# RANK OF A MATRIX\n",
        "# Rank of the ,atrix is the no of linearly independent rows and columns\n",
        "\n",
        "np.linalg.matrix_rank(A)"
      ],
      "execution_count": 63,
      "outputs": [
        {
          "output_type": "execute_result",
          "data": {
            "text/plain": [
              "3"
            ]
          },
          "metadata": {
            "tags": []
          },
          "execution_count": 63
        }
      ]
    },
    {
      "cell_type": "code",
      "metadata": {
        "colab": {
          "base_uri": "https://localhost:8080/"
        },
        "id": "5VPG95NwRcNW",
        "outputId": "45a336b5-1346-478d-919e-4b2f7c34a72d"
      },
      "source": [
        "# Trace of matrix is\n",
        "# it is jut the sum of the elemnets of the matrix of diagonal\n",
        "\n",
        "np.trace(A)"
      ],
      "execution_count": 64,
      "outputs": [
        {
          "output_type": "execute_result",
          "data": {
            "text/plain": [
              "11"
            ]
          },
          "metadata": {
            "tags": []
          },
          "execution_count": 64
        }
      ]
    },
    {
      "cell_type": "code",
      "metadata": {
        "colab": {
          "base_uri": "https://localhost:8080/"
        },
        "id": "tn_TCgJkiJkX",
        "outputId": "2c084ab3-03f6-4754-a7ff-64a7341068fb"
      },
      "source": [
        "# Determinant of matrix A\n",
        "\n",
        "np.linalg.det(A)"
      ],
      "execution_count": 65,
      "outputs": [
        {
          "output_type": "execute_result",
          "data": {
            "text/plain": [
              "-306.0"
            ]
          },
          "metadata": {
            "tags": []
          },
          "execution_count": 65
        }
      ]
    },
    {
      "cell_type": "code",
      "metadata": {
        "colab": {
          "base_uri": "https://localhost:8080/"
        },
        "id": "LgwWLx_0lrRv",
        "outputId": "8be9c5a3-0b25-4c3d-f0d9-27ede7ad6c90"
      },
      "source": [
        "A"
      ],
      "execution_count": 70,
      "outputs": [
        {
          "output_type": "execute_result",
          "data": {
            "text/plain": [
              "array([[ 6,  1,  1],\n",
              "       [ 4, -2,  5],\n",
              "       [ 2,  8,  7]])"
            ]
          },
          "metadata": {
            "tags": []
          },
          "execution_count": 70
        }
      ]
    },
    {
      "cell_type": "code",
      "metadata": {
        "colab": {
          "base_uri": "https://localhost:8080/"
        },
        "id": "jxNnCNPfjXsX",
        "outputId": "ae08c9c0-123a-4341-d4d7-4ddb9fa6b13c"
      },
      "source": [
        "# Inverse of matrix\n",
        "np.linalg.inv(A)"
      ],
      "execution_count": 66,
      "outputs": [
        {
          "output_type": "execute_result",
          "data": {
            "text/plain": [
              "array([[ 0.17647059, -0.00326797, -0.02287582],\n",
              "       [ 0.05882353, -0.13071895,  0.08496732],\n",
              "       [-0.11764706,  0.1503268 ,  0.05228758]])"
            ]
          },
          "metadata": {
            "tags": []
          },
          "execution_count": 66
        }
      ]
    },
    {
      "cell_type": "code",
      "metadata": {
        "colab": {
          "base_uri": "https://localhost:8080/"
        },
        "id": "kZaqo5P5jxBq",
        "outputId": "05c452d6-9b58-4469-fe6e-4574afdb715c"
      },
      "source": [
        "B = np.linalg.inv(A)\n",
        "B"
      ],
      "execution_count": 68,
      "outputs": [
        {
          "output_type": "execute_result",
          "data": {
            "text/plain": [
              "array([[ 0.17647059, -0.00326797, -0.02287582],\n",
              "       [ 0.05882353, -0.13071895,  0.08496732],\n",
              "       [-0.11764706,  0.1503268 ,  0.05228758]])"
            ]
          },
          "metadata": {
            "tags": []
          },
          "execution_count": 68
        }
      ]
    },
    {
      "cell_type": "code",
      "metadata": {
        "colab": {
          "base_uri": "https://localhost:8080/"
        },
        "id": "CnERnbsJkd75",
        "outputId": "75d0fba7-62db-42cc-dc8b-6410fcda9835"
      },
      "source": [
        "# Now we want to multiply matrix A&B\n",
        "# We are multiplying A and inverse of A \n",
        "np.matmul(A, B)"
      ],
      "execution_count": 69,
      "outputs": [
        {
          "output_type": "execute_result",
          "data": {
            "text/plain": [
              "array([[ 1.00000000e+00,  0.00000000e+00,  2.77555756e-17],\n",
              "       [-1.38777878e-17,  1.00000000e+00,  1.38777878e-17],\n",
              "       [-4.16333634e-17,  1.38777878e-16,  1.00000000e+00]])"
            ]
          },
          "metadata": {
            "tags": []
          },
          "execution_count": 69
        }
      ]
    },
    {
      "cell_type": "code",
      "metadata": {
        "id": "WvgvBIj6lz59"
      },
      "source": [
        ""
      ],
      "execution_count": null,
      "outputs": []
    }
  ]
}