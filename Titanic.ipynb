{
  "nbformat": 4,
  "nbformat_minor": 0,
  "metadata": {
    "colab": {
      "name": "Titanic.ipynb",
      "provenance": [],
      "include_colab_link": true
    },
    "kernelspec": {
      "name": "python3",
      "display_name": "Python 3"
    }
  },
  "cells": [
    {
      "cell_type": "markdown",
      "metadata": {
        "id": "view-in-github",
        "colab_type": "text"
      },
      "source": [
        "<a href=\"https://colab.research.google.com/github/Tanisha2910/Data-Science-Python/blob/master/Titanic.ipynb\" target=\"_parent\"><img src=\"https://colab.research.google.com/assets/colab-badge.svg\" alt=\"Open In Colab\"/></a>"
      ]
    },
    {
      "cell_type": "code",
      "metadata": {
        "id": "HnUPzMAeT1vB",
        "colab_type": "code",
        "colab": {}
      },
      "source": [
        "# Data Exploratory for Titanic\n",
        "import io\n",
        "import os\n",
        "import pandas as pd\n",
        "import numpy as np\n",
        "import matplotlib.pyplot as plt\n",
        "import seaborn as sns\n"
      ],
      "execution_count": 0,
      "outputs": []
    },
    {
      "cell_type": "code",
      "metadata": {
        "id": "FAy80o94Io7h",
        "colab_type": "code",
        "outputId": "4281c041-f55c-465d-953b-782cbf67544f",
        "colab": {
          "resources": {
            "http://localhost:8080/nbextensions/google.colab/files.js": {
              "data": "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",
              "ok": true,
              "headers": [
                [
                  "content-type",
                  "application/javascript"
                ]
              ],
              "status": 200,
              "status_text": ""
            }
          },
          "base_uri": "https://localhost:8080/",
          "height": 75
        }
      },
      "source": [
        "from google.colab import files\n",
        "uploaded = files.upload()"
      ],
      "execution_count": 35,
      "outputs": [
        {
          "output_type": "display_data",
          "data": {
            "text/html": [
              "\n",
              "     <input type=\"file\" id=\"files-3fc78131-3718-4878-87fd-255c44a0a60f\" name=\"files[]\" multiple disabled />\n",
              "     <output id=\"result-3fc78131-3718-4878-87fd-255c44a0a60f\">\n",
              "      Upload widget is only available when the cell has been executed in the\n",
              "      current browser session. Please rerun this cell to enable.\n",
              "      </output>\n",
              "      <script src=\"/nbextensions/google.colab/files.js\"></script> "
            ],
            "text/plain": [
              "<IPython.core.display.HTML object>"
            ]
          },
          "metadata": {
            "tags": []
          }
        },
        {
          "output_type": "stream",
          "text": [
            "Saving train.csv to train (1).csv\n"
          ],
          "name": "stdout"
        }
      ]
    },
    {
      "cell_type": "code",
      "metadata": {
        "id": "ZQTE2wn7IwhB",
        "colab_type": "code",
        "colab": {}
      },
      "source": [
        "data = pd.read_csv(io.BytesIO(uploaded['train.csv']))"
      ],
      "execution_count": 0,
      "outputs": []
    },
    {
      "cell_type": "code",
      "metadata": {
        "id": "9V9nC7iVI2sR",
        "colab_type": "code",
        "outputId": "920462bf-2407-4587-ff1b-4b3f8b034b61",
        "colab": {
          "base_uri": "https://localhost:8080/",
          "height": 35
        }
      },
      "source": [
        "data.shape"
      ],
      "execution_count": 40,
      "outputs": [
        {
          "output_type": "execute_result",
          "data": {
            "text/plain": [
              "(891, 12)"
            ]
          },
          "metadata": {
            "tags": []
          },
          "execution_count": 40
        }
      ]
    },
    {
      "cell_type": "code",
      "metadata": {
        "id": "zcP7F4xJJLG-",
        "colab_type": "code",
        "outputId": "4161f64b-cdbe-4300-9cf0-9027502e056f",
        "colab": {
          "base_uri": "https://localhost:8080/",
          "height": 194
        }
      },
      "source": [
        "data.head()"
      ],
      "execution_count": 41,
      "outputs": [
        {
          "output_type": "execute_result",
          "data": {
            "text/html": [
              "<div>\n",
              "<style scoped>\n",
              "    .dataframe tbody tr th:only-of-type {\n",
              "        vertical-align: middle;\n",
              "    }\n",
              "\n",
              "    .dataframe tbody tr th {\n",
              "        vertical-align: top;\n",
              "    }\n",
              "\n",
              "    .dataframe thead th {\n",
              "        text-align: right;\n",
              "    }\n",
              "</style>\n",
              "<table border=\"1\" class=\"dataframe\">\n",
              "  <thead>\n",
              "    <tr style=\"text-align: right;\">\n",
              "      <th></th>\n",
              "      <th>PassengerId</th>\n",
              "      <th>Survived</th>\n",
              "      <th>Pclass</th>\n",
              "      <th>Name</th>\n",
              "      <th>Sex</th>\n",
              "      <th>Age</th>\n",
              "      <th>SibSp</th>\n",
              "      <th>Parch</th>\n",
              "      <th>Ticket</th>\n",
              "      <th>Fare</th>\n",
              "      <th>Cabin</th>\n",
              "      <th>Embarked</th>\n",
              "    </tr>\n",
              "  </thead>\n",
              "  <tbody>\n",
              "    <tr>\n",
              "      <th>0</th>\n",
              "      <td>1</td>\n",
              "      <td>0</td>\n",
              "      <td>3</td>\n",
              "      <td>Braund, Mr. Owen Harris</td>\n",
              "      <td>male</td>\n",
              "      <td>22.0</td>\n",
              "      <td>1</td>\n",
              "      <td>0</td>\n",
              "      <td>A/5 21171</td>\n",
              "      <td>7.2500</td>\n",
              "      <td>NaN</td>\n",
              "      <td>S</td>\n",
              "    </tr>\n",
              "    <tr>\n",
              "      <th>1</th>\n",
              "      <td>2</td>\n",
              "      <td>1</td>\n",
              "      <td>1</td>\n",
              "      <td>Cumings, Mrs. John Bradley (Florence Briggs Th...</td>\n",
              "      <td>female</td>\n",
              "      <td>38.0</td>\n",
              "      <td>1</td>\n",
              "      <td>0</td>\n",
              "      <td>PC 17599</td>\n",
              "      <td>71.2833</td>\n",
              "      <td>C85</td>\n",
              "      <td>C</td>\n",
              "    </tr>\n",
              "    <tr>\n",
              "      <th>2</th>\n",
              "      <td>3</td>\n",
              "      <td>1</td>\n",
              "      <td>3</td>\n",
              "      <td>Heikkinen, Miss. Laina</td>\n",
              "      <td>female</td>\n",
              "      <td>26.0</td>\n",
              "      <td>0</td>\n",
              "      <td>0</td>\n",
              "      <td>STON/O2. 3101282</td>\n",
              "      <td>7.9250</td>\n",
              "      <td>NaN</td>\n",
              "      <td>S</td>\n",
              "    </tr>\n",
              "    <tr>\n",
              "      <th>3</th>\n",
              "      <td>4</td>\n",
              "      <td>1</td>\n",
              "      <td>1</td>\n",
              "      <td>Futrelle, Mrs. Jacques Heath (Lily May Peel)</td>\n",
              "      <td>female</td>\n",
              "      <td>35.0</td>\n",
              "      <td>1</td>\n",
              "      <td>0</td>\n",
              "      <td>113803</td>\n",
              "      <td>53.1000</td>\n",
              "      <td>C123</td>\n",
              "      <td>S</td>\n",
              "    </tr>\n",
              "    <tr>\n",
              "      <th>4</th>\n",
              "      <td>5</td>\n",
              "      <td>0</td>\n",
              "      <td>3</td>\n",
              "      <td>Allen, Mr. William Henry</td>\n",
              "      <td>male</td>\n",
              "      <td>35.0</td>\n",
              "      <td>0</td>\n",
              "      <td>0</td>\n",
              "      <td>373450</td>\n",
              "      <td>8.0500</td>\n",
              "      <td>NaN</td>\n",
              "      <td>S</td>\n",
              "    </tr>\n",
              "  </tbody>\n",
              "</table>\n",
              "</div>"
            ],
            "text/plain": [
              "   PassengerId  Survived  Pclass  ...     Fare Cabin  Embarked\n",
              "0            1         0       3  ...   7.2500   NaN         S\n",
              "1            2         1       1  ...  71.2833   C85         C\n",
              "2            3         1       3  ...   7.9250   NaN         S\n",
              "3            4         1       1  ...  53.1000  C123         S\n",
              "4            5         0       3  ...   8.0500   NaN         S\n",
              "\n",
              "[5 rows x 12 columns]"
            ]
          },
          "metadata": {
            "tags": []
          },
          "execution_count": 41
        }
      ]
    },
    {
      "cell_type": "code",
      "metadata": {
        "id": "qc4uy5ASLJxO",
        "colab_type": "code",
        "colab": {}
      },
      "source": [
        "EXPLORATORY DATA ANALYSIS"
      ],
      "execution_count": 0,
      "outputs": []
    },
    {
      "cell_type": "code",
      "metadata": {
        "id": "EiNOBU9KLNJW",
        "colab_type": "code",
        "outputId": "ba52584d-2ab0-4364-d74f-4b1428884093",
        "colab": {
          "base_uri": "https://localhost:8080/",
          "height": 282
        }
      },
      "source": [
        "# EDA is used to explore the target and features so we know if we will need to transform or normalize some of the features based on their distribution, delete some because it might not give us any information in predicting future outcomes, or create some new features that might be useful for prediction.\n",
        "data.describe()"
      ],
      "execution_count": 42,
      "outputs": [
        {
          "output_type": "execute_result",
          "data": {
            "text/html": [
              "<div>\n",
              "<style scoped>\n",
              "    .dataframe tbody tr th:only-of-type {\n",
              "        vertical-align: middle;\n",
              "    }\n",
              "\n",
              "    .dataframe tbody tr th {\n",
              "        vertical-align: top;\n",
              "    }\n",
              "\n",
              "    .dataframe thead th {\n",
              "        text-align: right;\n",
              "    }\n",
              "</style>\n",
              "<table border=\"1\" class=\"dataframe\">\n",
              "  <thead>\n",
              "    <tr style=\"text-align: right;\">\n",
              "      <th></th>\n",
              "      <th>PassengerId</th>\n",
              "      <th>Survived</th>\n",
              "      <th>Pclass</th>\n",
              "      <th>Age</th>\n",
              "      <th>SibSp</th>\n",
              "      <th>Parch</th>\n",
              "      <th>Fare</th>\n",
              "    </tr>\n",
              "  </thead>\n",
              "  <tbody>\n",
              "    <tr>\n",
              "      <th>count</th>\n",
              "      <td>891.000000</td>\n",
              "      <td>891.000000</td>\n",
              "      <td>891.000000</td>\n",
              "      <td>714.000000</td>\n",
              "      <td>891.000000</td>\n",
              "      <td>891.000000</td>\n",
              "      <td>891.000000</td>\n",
              "    </tr>\n",
              "    <tr>\n",
              "      <th>mean</th>\n",
              "      <td>446.000000</td>\n",
              "      <td>0.383838</td>\n",
              "      <td>2.308642</td>\n",
              "      <td>29.699118</td>\n",
              "      <td>0.523008</td>\n",
              "      <td>0.381594</td>\n",
              "      <td>32.204208</td>\n",
              "    </tr>\n",
              "    <tr>\n",
              "      <th>std</th>\n",
              "      <td>257.353842</td>\n",
              "      <td>0.486592</td>\n",
              "      <td>0.836071</td>\n",
              "      <td>14.526497</td>\n",
              "      <td>1.102743</td>\n",
              "      <td>0.806057</td>\n",
              "      <td>49.693429</td>\n",
              "    </tr>\n",
              "    <tr>\n",
              "      <th>min</th>\n",
              "      <td>1.000000</td>\n",
              "      <td>0.000000</td>\n",
              "      <td>1.000000</td>\n",
              "      <td>0.420000</td>\n",
              "      <td>0.000000</td>\n",
              "      <td>0.000000</td>\n",
              "      <td>0.000000</td>\n",
              "    </tr>\n",
              "    <tr>\n",
              "      <th>25%</th>\n",
              "      <td>223.500000</td>\n",
              "      <td>0.000000</td>\n",
              "      <td>2.000000</td>\n",
              "      <td>20.125000</td>\n",
              "      <td>0.000000</td>\n",
              "      <td>0.000000</td>\n",
              "      <td>7.910400</td>\n",
              "    </tr>\n",
              "    <tr>\n",
              "      <th>50%</th>\n",
              "      <td>446.000000</td>\n",
              "      <td>0.000000</td>\n",
              "      <td>3.000000</td>\n",
              "      <td>28.000000</td>\n",
              "      <td>0.000000</td>\n",
              "      <td>0.000000</td>\n",
              "      <td>14.454200</td>\n",
              "    </tr>\n",
              "    <tr>\n",
              "      <th>75%</th>\n",
              "      <td>668.500000</td>\n",
              "      <td>1.000000</td>\n",
              "      <td>3.000000</td>\n",
              "      <td>38.000000</td>\n",
              "      <td>1.000000</td>\n",
              "      <td>0.000000</td>\n",
              "      <td>31.000000</td>\n",
              "    </tr>\n",
              "    <tr>\n",
              "      <th>max</th>\n",
              "      <td>891.000000</td>\n",
              "      <td>1.000000</td>\n",
              "      <td>3.000000</td>\n",
              "      <td>80.000000</td>\n",
              "      <td>8.000000</td>\n",
              "      <td>6.000000</td>\n",
              "      <td>512.329200</td>\n",
              "    </tr>\n",
              "  </tbody>\n",
              "</table>\n",
              "</div>"
            ],
            "text/plain": [
              "       PassengerId    Survived      Pclass  ...       SibSp       Parch        Fare\n",
              "count   891.000000  891.000000  891.000000  ...  891.000000  891.000000  891.000000\n",
              "mean    446.000000    0.383838    2.308642  ...    0.523008    0.381594   32.204208\n",
              "std     257.353842    0.486592    0.836071  ...    1.102743    0.806057   49.693429\n",
              "min       1.000000    0.000000    1.000000  ...    0.000000    0.000000    0.000000\n",
              "25%     223.500000    0.000000    2.000000  ...    0.000000    0.000000    7.910400\n",
              "50%     446.000000    0.000000    3.000000  ...    0.000000    0.000000   14.454200\n",
              "75%     668.500000    1.000000    3.000000  ...    1.000000    0.000000   31.000000\n",
              "max     891.000000    1.000000    3.000000  ...    8.000000    6.000000  512.329200\n",
              "\n",
              "[8 rows x 7 columns]"
            ]
          },
          "metadata": {
            "tags": []
          },
          "execution_count": 42
        }
      ]
    },
    {
      "cell_type": "code",
      "metadata": {
        "id": "8e5QHcXJMdWf",
        "colab_type": "code",
        "outputId": "6d7c8a00-7fec-43f0-f268-5d89f25ef725",
        "colab": {
          "base_uri": "https://localhost:8080/",
          "height": 164
        }
      },
      "source": [
        "data.describe(include = ['O'])\n",
        "\n",
        "# For all the object variables (categorical and text), you can see how many categories are in each variable from the \"unique\" row. For example, the \"Sex\" variable has only 2 categories.\n"
      ],
      "execution_count": 43,
      "outputs": [
        {
          "output_type": "execute_result",
          "data": {
            "text/html": [
              "<div>\n",
              "<style scoped>\n",
              "    .dataframe tbody tr th:only-of-type {\n",
              "        vertical-align: middle;\n",
              "    }\n",
              "\n",
              "    .dataframe tbody tr th {\n",
              "        vertical-align: top;\n",
              "    }\n",
              "\n",
              "    .dataframe thead th {\n",
              "        text-align: right;\n",
              "    }\n",
              "</style>\n",
              "<table border=\"1\" class=\"dataframe\">\n",
              "  <thead>\n",
              "    <tr style=\"text-align: right;\">\n",
              "      <th></th>\n",
              "      <th>Name</th>\n",
              "      <th>Sex</th>\n",
              "      <th>Ticket</th>\n",
              "      <th>Cabin</th>\n",
              "      <th>Embarked</th>\n",
              "    </tr>\n",
              "  </thead>\n",
              "  <tbody>\n",
              "    <tr>\n",
              "      <th>count</th>\n",
              "      <td>891</td>\n",
              "      <td>891</td>\n",
              "      <td>891</td>\n",
              "      <td>204</td>\n",
              "      <td>889</td>\n",
              "    </tr>\n",
              "    <tr>\n",
              "      <th>unique</th>\n",
              "      <td>891</td>\n",
              "      <td>2</td>\n",
              "      <td>681</td>\n",
              "      <td>147</td>\n",
              "      <td>3</td>\n",
              "    </tr>\n",
              "    <tr>\n",
              "      <th>top</th>\n",
              "      <td>Williams, Mr. Howard Hugh \"Harry\"</td>\n",
              "      <td>male</td>\n",
              "      <td>CA. 2343</td>\n",
              "      <td>G6</td>\n",
              "      <td>S</td>\n",
              "    </tr>\n",
              "    <tr>\n",
              "      <th>freq</th>\n",
              "      <td>1</td>\n",
              "      <td>577</td>\n",
              "      <td>7</td>\n",
              "      <td>4</td>\n",
              "      <td>644</td>\n",
              "    </tr>\n",
              "  </tbody>\n",
              "</table>\n",
              "</div>"
            ],
            "text/plain": [
              "                                     Name   Sex    Ticket Cabin Embarked\n",
              "count                                 891   891       891   204      889\n",
              "unique                                891     2       681   147        3\n",
              "top     Williams, Mr. Howard Hugh \"Harry\"  male  CA. 2343    G6        S\n",
              "freq                                    1   577         7     4      644"
            ]
          },
          "metadata": {
            "tags": []
          },
          "execution_count": 43
        }
      ]
    },
    {
      "cell_type": "code",
      "metadata": {
        "id": "_RZqJ_K2NSBU",
        "colab_type": "code",
        "colab": {}
      },
      "source": [
        "# HISTOGRAMS OF THE NUMERIC VARIABLES \n",
        "# Histograms are very good visualization technique to check the distribution of numerical data.\n",
        "# In our data set, \"PassengerId\" are unique numbers from 1-891 to label each person and \"Survived\" and \"Pclass\" are also categorical data, so I will not plot a histogram for these variables."
      ],
      "execution_count": 0,
      "outputs": []
    },
    {
      "cell_type": "code",
      "metadata": {
        "id": "zpekbR8nOZqV",
        "colab_type": "code",
        "outputId": "6cad9ccf-f478-43a0-a299-94b0052b77ac",
        "colab": {
          "base_uri": "https://localhost:8080/",
          "height": 1000
        }
      },
      "source": [
        "# import visualization packages\n",
        "import matplotlib.pyplot as plt\n",
        "\n",
        "# set up figure size\n",
        "%matplotlib inline\n",
        "plt.rcParams['figure.figsize'] = (20,20)\n",
        "\n",
        "# make subplots\n",
        "fig, axis = plt.subplots(nrows = 2, ncols = 2)\n",
        "\n",
        "# Specify the features of interest\n",
        "num_features = ['Age', 'SibSp', 'Parch', 'Fare']\n",
        "xaxis = num_features\n",
        "yaxis = ['Counts', 'Counts', 'Counts', 'Counts']\n",
        "\n",
        "# draw histogram\n",
        "\n",
        "axis = axis.ravel()\n",
        "for idx, ax in enumerate(axis):\n",
        "  ax.hist(data[num_features[idx]].dropna(), bins = 40)\n",
        "  ax.set_xlabel(xaxis[idx], fontsize = 5)\n",
        "  ax.set_ylabel(yaxis[idx], fontsize = 5)\n",
        "  ax.tick_params(axis='both', labelsize = 10)\n",
        "  \n",
        "  \n",
        "# From the histogram, we see that all the values in the variables seem in the correct range. Most of the passengers are around 20 to 30 years old and don't have siblings or relatives with them. \n",
        "# A large amount of the tickets sold were less than $50. \n",
        "#There are very few tickets sold where the fare was over $500."
      ],
      "execution_count": 44,
      "outputs": [
        {
          "output_type": "display_data",
          "data": {
            "image/png": "[encoded data removed]",
            "text/plain": [
              "<Figure size 1440x1440 with 4 Axes>"
            ]
          },
          "metadata": {
            "tags": []
          }
        }
      ]
    },
    {
      "cell_type": "code",
      "metadata": {
        "id": "KSHAQ2ZXeEoI",
        "colab_type": "code",
        "outputId": "c0293549-cbcd-4929-d3ab-da4c7f4ca302",
        "colab": {
          "base_uri": "https://localhost:8080/",
          "height": 294
        }
      },
      "source": [
        "# BARPLOT OF THE CATEGORICAL DATA\n",
        "\n",
        "# We will create a barplot of the categorical data variables in the data set. Since \"Ticket\" and \"Cabin\" have too many levels(more than 100), i have not make the bar plot of these\n",
        "\n",
        "# set up the fig size\n",
        "%matplotlib inline\n",
        "\n",
        "# make subplots\n",
        "fig, axis = plt.subplots(nrows = 2, ncols = 2)\n",
        "\n",
        "# make the data read to feed into the visualizer\n",
        "X_Survived = data.replace({'Survived': {1: 'yes', 0: 'no'}}).groupby('Survived').size().reset_index(name='Counts')['Survived']\n",
        "Y_Survived = data.replace({'Survived' : {1: 'yes', 0: 'no'}}).groupby('Survived').size().reset_index(name='Counts')['Counts']\n",
        "\n",
        "# Make the bar plot\n",
        "axis[0, 0].bar(X_Survived, Y_Survived)\n",
        "axis[0, 0].set_title('Survived', fontsize = 25)\n",
        "axis[0, 0].set_ylabel('Counts', fontsize = 20)\n",
        "axis[0, 0].tick_params(axis = 'both', labelsize = 15)\n",
        "\n",
        "# make the data read to feed into visualizer\n",
        "X_Pclass = data.replace({'Pclass': {1: '1st', 2: '2nd', 3: '3rd'}}).groupby('Pclass').size().reset_index(name = 'Counts')['Pclass']\n",
        "Y_Pclass = data.replace({'Pclass': {1: '1st', 2: '2nd', 3: '3rd'}}).groupby('Pclass').size().reset_index(name = 'Counts')['Counts']\n",
        "\n",
        "# male the bar plot\n",
        "axis[0, 1].bar(X_Pclass, Y_Pclass)\n",
        "axis[0, 1].set_title('Pclass', fontsize = 25)\n",
        "axis[0, 1].set_ylabel('Counts', fontsize = 20)\n",
        "axis[0, 1].tick_params(axis = 'both', labelsize = 15)\n",
        "\n",
        "# make the data read to feed into the visualizer\n",
        "X_Sex = data.groupby('Sex').size().reset_index(name = 'Counts')['Sex']\n",
        "Y_Sex = data.groupby('Sex').size().reset_index(name = 'Counts')['Counts']\n",
        "\n",
        "# make the bar plot\n",
        "axis[1, 0].bar(X_Sex, Y_Sex)\n",
        "axis[1, 0].set_title('Sex', fontsize = 25)\n",
        "axis[1, 0].set_ylabel('Counts', fontsize = 20)\n",
        "axis[1, 0].tick_params(axis = 'both', labelsize = 15)\n",
        "\n",
        "# make the data feed into the visualizer\n",
        "X_Embarked = data.groupby('Embarked').size().reset_index(name = 'Counts')['Embarked']\n",
        "Y_Embarked = data.groupby('Embarked').size().reset_index(name = 'Counts')['Counts']\n",
        "\n",
        "# make the bar plot\n",
        "axis[1, 1].bar(X_Embarked, Y_Embarked)\n",
        "axis[1, 1].set_title('Embarked', fontsize = 25)\n",
        "axis[1, 1].set_ylabel('Counts', fontsize = 20)\n",
        "axis[1, 1].tick_params(axis = 'both', labelsize = 15)"
      ],
      "execution_count": 45,
      "outputs": [
        {
          "output_type": "display_data",
          "data": {
            "image/png": "[encoded data removed]",
            "text/plain": [
              "<Figure size 432x288 with 4 Axes>"
            ]
          },
          "metadata": {
            "tags": []
          }
        }
      ]
    },
    {
      "cell_type": "markdown",
      "metadata": {
        "id": "cnq9dxYlnGiz",
        "colab_type": "text"
      },
      "source": [
        "ARE NUMERICAL VARIABLES CORRELATED?"
      ]
    },
    {
      "cell_type": "code",
      "metadata": {
        "id": "3MvV9UxSm_Ke",
        "colab_type": "code",
        "outputId": "a189a54a-0f52-4aac-f9f0-34f395042e44",
        "colab": {
          "base_uri": "https://localhost:8080/",
          "height": 496
        }
      },
      "source": [
        "# In order to get a sense of whether the numerical variables in our data set are correlated, we will create a Pearson Ranking Visualization\n",
        "\n",
        "# set up a fig size\n",
        "%matplotlib inline\n",
        "plt.rcParams['figure.figsize'] = (15, 7)\n",
        "\n",
        "# import the package for the visualization of the correlation\n",
        "from yellowbrick.features import Rank2D\n",
        "\n",
        "# extract the numpy arrays from the dataframe\n",
        "\n",
        "X = data[num_features].as_matrix()\n",
        "\n",
        "# instantiate the visualizer with the Covariance ranking algorithm\n",
        "visualizer = Rank2D(features = num_features, algorithm = 'pearson')\n",
        "visualizer.fit(X)     # fit the data\n",
        "visualizer\n",
        "\n",
        "visualizer.transform(X)   #Transform the data\n",
        "visualizer.poof()        # Draw/ show/ poof the data\n",
        "\n",
        "#From the Pearson ranking figure below, we can see that the correlation between variables are low (<0.5)."
      ],
      "execution_count": 46,
      "outputs": [
        {
          "output_type": "stream",
          "text": [
            "/usr/local/lib/python3.6/dist-packages/ipykernel_launcher.py:9: FutureWarning: Method .as_matrix will be removed in a future version. Use .values instead.\n",
            "  if __name__ == '__main__':\n"
          ],
          "name": "stderr"
        },
        {
          "output_type": "display_data",
          "data": {
            "image/png": "[encoded data removed]",
            "text/plain": [
              "<Figure size 1080x504 with 2 Axes>"
            ]
          },
          "metadata": {
            "tags": []
          }
        }
      ]
    },
    {
      "cell_type": "markdown",
      "metadata": {
        "id": "HebN7_PbuBvP",
        "colab_type": "text"
      },
      "source": [
        "Are The Distribution of Numerical Variables the Same Or Different among Survived and not Survived"
      ]
    },
    {
      "cell_type": "code",
      "metadata": {
        "id": "WLg2rDthuAOC",
        "colab_type": "code",
        "outputId": "3498f854-9cd1-4147-bf25-590a1df51084",
        "colab": {
          "base_uri": "https://localhost:8080/",
          "height": 356
        }
      },
      "source": [
        "# Next we will compare the distributions of the numerical variables between between passengers that survived and those that did not survive to see if there are any significant differences.\n",
        "# We can do this with Parallel Co ordinates visualization\n",
        "\n",
        "# set up the figure size\n",
        "%matplotlib inline\n",
        "plt.rcParams['figure.figsize'] = (10,5)\n",
        "plt.rcParams['font.size'] = 50\n",
        "\n",
        "#setup the color for yellowbrick visualizer\n",
        "from yellowbrick.style import set_palette\n",
        "set_palette('sns_bright')\n",
        "\n",
        "# import packages\n",
        "from yellowbrick.features import ParallelCoordinates\n",
        "\n",
        "# Specify the features of interest and the classes of the target\n",
        "classes = ['Not-survived', 'Survived']\n",
        "num_features = ['Age', 'SibSp', 'Parch', 'Fare']\n",
        "\n",
        "# copy data to a new dataframe\n",
        "data_norm = data.copy()\n",
        "\n",
        "# normalize data to 0-1\n",
        "for feature in num_features:\n",
        "    data_norm[feature] = (data[feature] - data[feature].mean(skipna = True)) / (data[feature].max(skipna = True) - data[feature].min(skipna = True))\n",
        "    \n",
        "    # Extract the numpy arrays from the data frame\n",
        "    x = data_norm[num_features].as_matrix()\n",
        "    y = data.Survived.as_matrix()\n",
        "    \n",
        "    # Instantiate the visualizer \n",
        "    visualizer = ParallelCoordinates(classes = classes, features = num_features)\n",
        "    \n",
        "    visualizer.fit(x, y)  # Fit the data to the visualizer\n",
        "    visualizer.transform(x)  # Transform the data\n",
        "    visualizer.poof          # Draw/ show/ poof the data"
      ],
      "execution_count": 47,
      "outputs": [
        {
          "output_type": "stream",
          "text": [
            "/usr/local/lib/python3.6/dist-packages/ipykernel_launcher.py:24: FutureWarning: Method .as_matrix will be removed in a future version. Use .values instead.\n",
            "/usr/local/lib/python3.6/dist-packages/ipykernel_launcher.py:25: FutureWarning: Method .as_matrix will be removed in a future version. Use .values instead.\n"
          ],
          "name": "stderr"
        },
        {
          "output_type": "display_data",
          "data": {
            "image/png": "[encoded data removed]",
            "text/plain": [
              "<Figure size 720x360 with 1 Axes>"
            ]
          },
          "metadata": {
            "tags": []
          }
        }
      ]
    },
    {
      "cell_type": "markdown",
      "metadata": {
        "id": "yGC6Xjo_7sGw",
        "colab_type": "text"
      },
      "source": [
        "Are there different survival rates in different categories?"
      ]
    },
    {
      "cell_type": "code",
      "metadata": {
        "id": "n8QEkb4R7qfU",
        "colab_type": "code",
        "outputId": "15731ad0-2adc-4ba9-e4aa-e966a34df71b",
        "colab": {
          "base_uri": "https://localhost:8080/",
          "height": 638
        }
      },
      "source": [
        "# speaking of survival rates how they differ across our categorical variables ?\n",
        "# we can get a sense of this by creating daceted stacked barplots fot each variables\n",
        "\n",
        "# set up the figure\n",
        "%matplotlib inline\n",
        "plt.rcParams['figure.figsize'] = (20,10)\n",
        "\n",
        "# make subplots\n",
        "fig, axis = plt.subplots(nrows = 2, ncols = 2)\n",
        "\n",
        "# make the data read to feed into the visualizer\n",
        "Sex_survived = data.replace({'Survived': {1: 'Survived', 0: 'Not Survived'}})[data['Survived']==1]['Sex'].value_counts()\n",
        "Sex_not_survived = data.replace({'Survived': {1: 'Survived', 0: 'Not Survived'}})[data['Survived']==0]['Sex'].value_counts()\n",
        "Sex_not_survived = Sex_not_survived.reindex(index = Sex_survived.index)\n",
        "# make the bar plot \n",
        "p1 = axis[0,0].bar(Sex_survived.index, Sex_survived.values)\n",
        "p2 = axis[0,0].bar(Sex_not_survived.index, Sex_not_survived.values, bottom = Sex_survived.values)\n",
        "\n",
        "axis[0, 0].set_title('Sex', fontsize = 25)\n",
        "axis[0, 0].set_ylabel('Counts', fontsize = 25)\n",
        "axis[0, 0].tick_params(axis = 'both', labelsize = 15)\n",
        "axis[0, 0].legend((p1[0], p2[0]), ('Survived', 'Not-survived'), fontsize = 15)\n",
        "\n",
        "# make the data read to feed into the visualizer \n",
        "Pclass_survived = data.replace({'Survived': {1: 'Survived', 0: 'Not-survived'}}).replace({'Pclass': {1: '1st', 2: '2nd', 3: '3rd'}})[data['Survived']==1]['Pclass'].value_counts()\n",
        "Pclass_not_survived = data.replace({'Survived': {1: 'Survived', 0: 'Not-survived'}}).replace({'Pclass': {1: '1st', 2: '2nd', 3: '3rd'}})[data['Survived']==0]['Pclass'].value_counts()\n",
        "Pclass_not_survived = Pclass_not_survived.reindex(index = Pclass_survived.index)\n",
        "\n",
        "# male the bar plot\n",
        "p3 = axis[0, 1].bar(Pclass_survived.index, Pclass_survived.values)\n",
        "p4 = axis[0, 1].bar(Pclass_not_survived.index, Pclass_not_survived.values)\n",
        "\n",
        "axis[0,1].set_title('Pclass', fontsize = 25)\n",
        "axis[0,1].set_ylabel('Counts', fontsize = 20)\n",
        "axis[0,1].tick_params(axis = 'both', labelsize = 15)\n",
        "axis[0,1].legend((p3[0], p4[0]),('Survived', 'Not-survived'), fontsize = 15)\n",
        "\n",
        "# Make the data read to feed into the visualizer\n",
        "Embarked_survived = data.replace({'Survived': {1: 'Survived', 0: 'Not-survived'}})[data['Survived']==1]['Embarked'].value_counts()\n",
        "Embarked_not_survived = data.replace({'Survived': {1: 'Survived', 0: 'Not-survived'}})[data['Survived']==0]['Embarked'].value_counts()\n",
        "Embarked_not_survived = Embarked_not_survived.reindex(index = Embarked_survived.index)\n",
        "\n",
        "# make the bar plot\n",
        "p5 = axis[1, 0].bar(Embarked_survived.index, Embarked_survived.values)\n",
        "p6 = axis[1, 0].bar(Embarked_not_survived.index, Embarked_not_survived.values, bottom = Embarked_survived.values)\n",
        "axis[1, 0].set_title('Embarked',  fontsize = 25)\n",
        "axis[1, 0].set_ylabel('Counts', fontsize = 20)\n",
        "axis[1, 0].tick_params(axis = 'both', labelsize = 15)\n",
        "axis[1, 0].legend((p5[0], p6[0]), ('Survived', 'Not-Survived'), fontsize = 15)\n"
      ],
      "execution_count": 48,
      "outputs": [
        {
          "output_type": "execute_result",
          "data": {
            "text/plain": [
              "<matplotlib.legend.Legend at 0x7fab841e3898>"
            ]
          },
          "metadata": {
            "tags": []
          },
          "execution_count": 48
        },
        {
          "output_type": "display_data",
          "data": {
            "image/png": "[encoded data removed]",
            "text/plain": [
              "<Figure size 1440x720 with 4 Axes>"
            ]
          },
          "metadata": {
            "tags": []
          }
        }
      ]
    },
    {
      "cell_type": "code",
      "metadata": {
        "id": "xLBgQrqYgDSJ",
        "colab_type": "code",
        "colab": {}
      },
      "source": [
        "# As we can see from the above features more females survived than men and the death rathes in the 3rd ticket class and the embarkation from southampton port are much higher than the others\n"
      ],
      "execution_count": 0,
      "outputs": []
    },
    {
      "cell_type": "markdown",
      "metadata": {
        "id": "oCaRhalnht5j",
        "colab_type": "text"
      },
      "source": [
        "**FEATURE SELECTION AND FEATURE ENGINEERING**"
      ]
    },
    {
      "cell_type": "code",
      "metadata": {
        "id": "tf_SD2BwhowA",
        "colab_type": "code",
        "colab": {}
      },
      "source": [
        "# In this step we will do alot of things such as drop some features, fill in missing values, log transformations,\n",
        "# and one hot encoding for the categorical features.\n",
        "\n",
        "# DROPPING FEATURES WE WILL NOT USE\n",
        "\n",
        "# WE will delete the features \"PassengerId\", \"Name\", \"Ticket\" amd \"Cabin\" from our model. The reasons are as follows\n",
        "# 1.\"PassengerId\": just a series of numbers from 1-891, which is used to label each person\n",
        "# 2. \"Name\": the names of all the passengers, which might give some information like if there are some people are related based on the last names.but to simplify things up at this stage , i will pass this feature\n",
        "# 3. \"Ticket\" and \"cabin\" : too many levels with unknown information\n"
      ],
      "execution_count": 0,
      "outputs": []
    },
    {
      "cell_type": "code",
      "metadata": {
        "id": "eA4TmzIrj1PP",
        "colab_type": "code",
        "colab": {}
      },
      "source": [
        "# Filling missing values\n",
        "# From EDA we know that there are some missing values in \"Age\", \"Cabin\" and \"Embarked\" variables\n",
        "# we will fill the missing values in age using the median age and fill the missing values in embarked with \"S\" since there are only 2 values missing and \"S\" is the most represented in the dataset"
      ],
      "execution_count": 0,
      "outputs": []
    },
    {
      "cell_type": "code",
      "metadata": {
        "id": "PhztNaclkx70",
        "colab_type": "code",
        "outputId": "8be14483-b792-45b9-892b-ceb90e2988cc",
        "colab": {
          "base_uri": "https://localhost:8080/",
          "height": 177
        }
      },
      "source": [
        "# filling missing age data with median value\n",
        "def fill_na_median(data, inplace = True):\n",
        "    return data.fillna(data.median(), inplace = inplace)\n",
        "fill_na_median(data['Age'])\n",
        "\n",
        "# check the result\n",
        "data['Age'].describe()"
      ],
      "execution_count": 49,
      "outputs": [
        {
          "output_type": "execute_result",
          "data": {
            "text/plain": [
              "count    891.000000\n",
              "mean      29.361582\n",
              "std       13.019697\n",
              "min        0.420000\n",
              "25%       22.000000\n",
              "50%       28.000000\n",
              "75%       35.000000\n",
              "max       80.000000\n",
              "Name: Age, dtype: float64"
            ]
          },
          "metadata": {
            "tags": []
          },
          "execution_count": 49
        }
      ]
    },
    {
      "cell_type": "code",
      "metadata": {
        "id": "BulgecXklaAP",
        "colab_type": "code",
        "outputId": "0898808e-f475-452c-82d7-1ca04cdeb1d3",
        "colab": {
          "base_uri": "https://localhost:8080/",
          "height": 106
        }
      },
      "source": [
        "# fill with the most represented values\n",
        "\n",
        "def fill_na_most(data, inplace = True):\n",
        "    return data.fillna('S', inplace = inplace)\n",
        "  \n",
        "fill_na_most(data['Embarked'])\n",
        "\n",
        "# check result\n",
        "data['Embarked'].describe()"
      ],
      "execution_count": 50,
      "outputs": [
        {
          "output_type": "execute_result",
          "data": {
            "text/plain": [
              "count     891\n",
              "unique      3\n",
              "top         S\n",
              "freq      646\n",
              "Name: Embarked, dtype: object"
            ]
          },
          "metadata": {
            "tags": []
          },
          "execution_count": 50
        }
      ]
    },
    {
      "cell_type": "code",
      "metadata": {
        "id": "9k85f2qtl5sU",
        "colab_type": "code",
        "outputId": "ff212f84-75ed-4e16-edeb-c6609ca658c7",
        "colab": {
          "base_uri": "https://localhost:8080/",
          "height": 282
        }
      },
      "source": [
        "# LOG TRANSFORMATION OF THE FARE\n",
        "# from the histogram we can see that the distribution of fare is highly right skewed. For dealing with highly skewed positive data one of the strategies that is used is log transformation, so the skeweness will be less.\n",
        "# since the minimum is 0, we will add 1 to the raw value, so there will not be any errors for log transformation\n",
        "\n",
        "# log transformation\n",
        "def log_transformation(data):\n",
        "    return data.apply(np.log1p)\n",
        "  \n",
        "data['Fare_log1p'] = log_transformation(data['Fare'])\n",
        "\n",
        "# cheq the data\n",
        "data.describe()\n"
      ],
      "execution_count": 51,
      "outputs": [
        {
          "output_type": "execute_result",
          "data": {
            "text/html": [
              "<div>\n",
              "<style scoped>\n",
              "    .dataframe tbody tr th:only-of-type {\n",
              "        vertical-align: middle;\n",
              "    }\n",
              "\n",
              "    .dataframe tbody tr th {\n",
              "        vertical-align: top;\n",
              "    }\n",
              "\n",
              "    .dataframe thead th {\n",
              "        text-align: right;\n",
              "    }\n",
              "</style>\n",
              "<table border=\"1\" class=\"dataframe\">\n",
              "  <thead>\n",
              "    <tr style=\"text-align: right;\">\n",
              "      <th></th>\n",
              "      <th>PassengerId</th>\n",
              "      <th>Survived</th>\n",
              "      <th>Pclass</th>\n",
              "      <th>Age</th>\n",
              "      <th>SibSp</th>\n",
              "      <th>Parch</th>\n",
              "      <th>Fare</th>\n",
              "      <th>Fare_log1p</th>\n",
              "    </tr>\n",
              "  </thead>\n",
              "  <tbody>\n",
              "    <tr>\n",
              "      <th>count</th>\n",
              "      <td>891.000000</td>\n",
              "      <td>891.000000</td>\n",
              "      <td>891.000000</td>\n",
              "      <td>891.000000</td>\n",
              "      <td>891.000000</td>\n",
              "      <td>891.000000</td>\n",
              "      <td>891.000000</td>\n",
              "      <td>891.000000</td>\n",
              "    </tr>\n",
              "    <tr>\n",
              "      <th>mean</th>\n",
              "      <td>446.000000</td>\n",
              "      <td>0.383838</td>\n",
              "      <td>2.308642</td>\n",
              "      <td>29.361582</td>\n",
              "      <td>0.523008</td>\n",
              "      <td>0.381594</td>\n",
              "      <td>32.204208</td>\n",
              "      <td>2.962246</td>\n",
              "    </tr>\n",
              "    <tr>\n",
              "      <th>std</th>\n",
              "      <td>257.353842</td>\n",
              "      <td>0.486592</td>\n",
              "      <td>0.836071</td>\n",
              "      <td>13.019697</td>\n",
              "      <td>1.102743</td>\n",
              "      <td>0.806057</td>\n",
              "      <td>49.693429</td>\n",
              "      <td>0.969048</td>\n",
              "    </tr>\n",
              "    <tr>\n",
              "      <th>min</th>\n",
              "      <td>1.000000</td>\n",
              "      <td>0.000000</td>\n",
              "      <td>1.000000</td>\n",
              "      <td>0.420000</td>\n",
              "      <td>0.000000</td>\n",
              "      <td>0.000000</td>\n",
              "      <td>0.000000</td>\n",
              "      <td>0.000000</td>\n",
              "    </tr>\n",
              "    <tr>\n",
              "      <th>25%</th>\n",
              "      <td>223.500000</td>\n",
              "      <td>0.000000</td>\n",
              "      <td>2.000000</td>\n",
              "      <td>22.000000</td>\n",
              "      <td>0.000000</td>\n",
              "      <td>0.000000</td>\n",
              "      <td>7.910400</td>\n",
              "      <td>2.187218</td>\n",
              "    </tr>\n",
              "    <tr>\n",
              "      <th>50%</th>\n",
              "      <td>446.000000</td>\n",
              "      <td>0.000000</td>\n",
              "      <td>3.000000</td>\n",
              "      <td>28.000000</td>\n",
              "      <td>0.000000</td>\n",
              "      <td>0.000000</td>\n",
              "      <td>14.454200</td>\n",
              "      <td>2.737881</td>\n",
              "    </tr>\n",
              "    <tr>\n",
              "      <th>75%</th>\n",
              "      <td>668.500000</td>\n",
              "      <td>1.000000</td>\n",
              "      <td>3.000000</td>\n",
              "      <td>35.000000</td>\n",
              "      <td>1.000000</td>\n",
              "      <td>0.000000</td>\n",
              "      <td>31.000000</td>\n",
              "      <td>3.465736</td>\n",
              "    </tr>\n",
              "    <tr>\n",
              "      <th>max</th>\n",
              "      <td>891.000000</td>\n",
              "      <td>1.000000</td>\n",
              "      <td>3.000000</td>\n",
              "      <td>80.000000</td>\n",
              "      <td>8.000000</td>\n",
              "      <td>6.000000</td>\n",
              "      <td>512.329200</td>\n",
              "      <td>6.240917</td>\n",
              "    </tr>\n",
              "  </tbody>\n",
              "</table>\n",
              "</div>"
            ],
            "text/plain": [
              "       PassengerId    Survived      Pclass  ...       Parch        Fare  Fare_log1p\n",
              "count   891.000000  891.000000  891.000000  ...  891.000000  891.000000  891.000000\n",
              "mean    446.000000    0.383838    2.308642  ...    0.381594   32.204208    2.962246\n",
              "std     257.353842    0.486592    0.836071  ...    0.806057   49.693429    0.969048\n",
              "min       1.000000    0.000000    1.000000  ...    0.000000    0.000000    0.000000\n",
              "25%     223.500000    0.000000    2.000000  ...    0.000000    7.910400    2.187218\n",
              "50%     446.000000    0.000000    3.000000  ...    0.000000   14.454200    2.737881\n",
              "75%     668.500000    1.000000    3.000000  ...    0.000000   31.000000    3.465736\n",
              "max     891.000000    1.000000    3.000000  ...    6.000000  512.329200    6.240917\n",
              "\n",
              "[8 rows x 8 columns]"
            ]
          },
          "metadata": {
            "tags": []
          },
          "execution_count": 51
        }
      ]
    },
    {
      "cell_type": "code",
      "metadata": {
        "id": "dmOKCqmaL5ks",
        "colab_type": "code",
        "outputId": "f35a6650-f820-4ef5-90b4-d64fb5bb939f",
        "colab": {
          "base_uri": "https://localhost:8080/",
          "height": 347
        }
      },
      "source": [
        "# now we will cheq the distribution using histogram of fare\n",
        "# set up the figure size\n",
        "%matplotlib inline\n",
        "plt.rcParams['figure.figsize'] = (10, 5)\n",
        "\n",
        "plt.hist(data['Fare_log1p'], bins = 40)\n",
        "plt.xlabel('Fare_log1p', fontsize = 20)\n",
        "plt.ylabel('Counts', fontsize = 20)\n",
        "plt.tick_params(axis = 'both', labelsize = 15)\n",
        "\n",
        "# we can see from below figure that after log transformation the data is much less skewed"
      ],
      "execution_count": 52,
      "outputs": [
        {
          "output_type": "display_data",
          "data": {
            "image/png": "[encoded data removed]",
            "text/plain": [
              "<Figure size 720x360 with 1 Axes>"
            ]
          },
          "metadata": {
            "tags": []
          }
        }
      ]
    },
    {
      "cell_type": "markdown",
      "metadata": {
        "id": "hTJZGVAgOfMe",
        "colab_type": "text"
      },
      "source": [
        "ONE HOT ENCODING FOR CATEGORICAL DATA"
      ]
    },
    {
      "cell_type": "code",
      "metadata": {
        "id": "Il2J9kPxOdV0",
        "colab_type": "code",
        "outputId": "dace7096-20bf-4837-cc5c-ed27a0a066c7",
        "colab": {
          "base_uri": "https://localhost:8080/",
          "height": 194
        }
      },
      "source": [
        "# we use one hot encoding for categorical features to transform them into numbers. \n",
        "# get the categorical data\n",
        "\n",
        "cat_features = ['Pclass', 'Sex', 'Embarked']\n",
        "data_cat = data[cat_features]\n",
        "data_cat = data_cat.replace({'Pclass': {1: '1st', 2: '2nd', 3: '3rd'}})\n",
        "data_cat\n",
        "\n",
        "# one hot encoding\n",
        "data_cat_dummies = pd.get_dummies(data_cat)\n",
        "\n",
        "# cheq the data\n",
        "data_cat_dummies.head()"
      ],
      "execution_count": 53,
      "outputs": [
        {
          "output_type": "execute_result",
          "data": {
            "text/html": [
              "<div>\n",
              "<style scoped>\n",
              "    .dataframe tbody tr th:only-of-type {\n",
              "        vertical-align: middle;\n",
              "    }\n",
              "\n",
              "    .dataframe tbody tr th {\n",
              "        vertical-align: top;\n",
              "    }\n",
              "\n",
              "    .dataframe thead th {\n",
              "        text-align: right;\n",
              "    }\n",
              "</style>\n",
              "<table border=\"1\" class=\"dataframe\">\n",
              "  <thead>\n",
              "    <tr style=\"text-align: right;\">\n",
              "      <th></th>\n",
              "      <th>Pclass_1st</th>\n",
              "      <th>Pclass_2nd</th>\n",
              "      <th>Pclass_3rd</th>\n",
              "      <th>Sex_female</th>\n",
              "      <th>Sex_male</th>\n",
              "      <th>Embarked_C</th>\n",
              "      <th>Embarked_Q</th>\n",
              "      <th>Embarked_S</th>\n",
              "    </tr>\n",
              "  </thead>\n",
              "  <tbody>\n",
              "    <tr>\n",
              "      <th>0</th>\n",
              "      <td>0</td>\n",
              "      <td>0</td>\n",
              "      <td>1</td>\n",
              "      <td>0</td>\n",
              "      <td>1</td>\n",
              "      <td>0</td>\n",
              "      <td>0</td>\n",
              "      <td>1</td>\n",
              "    </tr>\n",
              "    <tr>\n",
              "      <th>1</th>\n",
              "      <td>1</td>\n",
              "      <td>0</td>\n",
              "      <td>0</td>\n",
              "      <td>1</td>\n",
              "      <td>0</td>\n",
              "      <td>1</td>\n",
              "      <td>0</td>\n",
              "      <td>0</td>\n",
              "    </tr>\n",
              "    <tr>\n",
              "      <th>2</th>\n",
              "      <td>0</td>\n",
              "      <td>0</td>\n",
              "      <td>1</td>\n",
              "      <td>1</td>\n",
              "      <td>0</td>\n",
              "      <td>0</td>\n",
              "      <td>0</td>\n",
              "      <td>1</td>\n",
              "    </tr>\n",
              "    <tr>\n",
              "      <th>3</th>\n",
              "      <td>1</td>\n",
              "      <td>0</td>\n",
              "      <td>0</td>\n",
              "      <td>1</td>\n",
              "      <td>0</td>\n",
              "      <td>0</td>\n",
              "      <td>0</td>\n",
              "      <td>1</td>\n",
              "    </tr>\n",
              "    <tr>\n",
              "      <th>4</th>\n",
              "      <td>0</td>\n",
              "      <td>0</td>\n",
              "      <td>1</td>\n",
              "      <td>0</td>\n",
              "      <td>1</td>\n",
              "      <td>0</td>\n",
              "      <td>0</td>\n",
              "      <td>1</td>\n",
              "    </tr>\n",
              "  </tbody>\n",
              "</table>\n",
              "</div>"
            ],
            "text/plain": [
              "   Pclass_1st  Pclass_2nd  Pclass_3rd  ...  Embarked_C  Embarked_Q  Embarked_S\n",
              "0           0           0           1  ...           0           0           1\n",
              "1           1           0           0  ...           1           0           0\n",
              "2           0           0           1  ...           0           0           1\n",
              "3           1           0           0  ...           0           0           1\n",
              "4           0           0           1  ...           0           0           1\n",
              "\n",
              "[5 rows x 8 columns]"
            ]
          },
          "metadata": {
            "tags": []
          },
          "execution_count": 53
        }
      ]
    },
    {
      "cell_type": "markdown",
      "metadata": {
        "id": "TNYuMMqaQNFh",
        "colab_type": "text"
      },
      "source": [
        "MODEL TRAINING AND MODEL EVALUATION"
      ]
    },
    {
      "cell_type": "code",
      "metadata": {
        "id": "10VFRMTFQLoK",
        "colab_type": "code",
        "colab": {}
      },
      "source": [
        "# here i will put model training and model evaluation in one part since Yellowbrick is a very good package that can wrap the model and creates good visualization of the model performance, making model much easier and fun\n",
        "\n",
        "# PREPARE DATA FOR MODEL TRAINING AND EVALUATION\n",
        "\n",
        "# before we train the model, we need to split the data into 2 sets: training and validation\n",
        "# We will use training data set to trin the model and use the validation dataset to evaluate the model"
      ],
      "execution_count": 0,
      "outputs": []
    },
    {
      "cell_type": "code",
      "metadata": {
        "id": "jDukSNWTAMx-",
        "colab_type": "code",
        "colab": {}
      },
      "source": [
        "# create a whole features dataset that can be used for train and validation data splitting \n",
        "# here we will combine the numerical features and the dummie features together ..\n",
        "\n",
        "features_model = ['Age', 'SibSp', 'Parch', 'Fare_log1p']\n",
        "data_model_x = pd.concat([data[features_model], data_cat_dummies], axis = 1)\n",
        "\n",
        "# create a whole target dataset that can be used for train ans validation data splitting\n",
        "\n",
        "data_model_y = data.replace({'Survived': {1: 'Survived', 0: 'Not_survived'}})['Survived']\n",
        "\n"
      ],
      "execution_count": 0,
      "outputs": []
    },
    {
      "cell_type": "code",
      "metadata": {
        "id": "wwcwLkhmCQE_",
        "colab_type": "code",
        "outputId": "2c8293a0-d95e-4785-8e08-7883f91e5a08",
        "colab": {
          "base_uri": "https://localhost:8080/",
          "height": 266
        }
      },
      "source": [
        "# Seperate the data into training and validation and check the details of the dataset\n",
        "from sklearn.model_selection import train_test_split\n",
        "\n",
        "# split the data\n",
        "x_train, x_val, y_train, y_val = train_test_split(data_model_x, data_model_y, test_size = 0.3, random_state = 11)\n",
        "\n",
        "# number of samples in each set\n",
        "print(\"No. of samples in training set:\", x_train.shape[0])\n",
        "print(\"No of samples in validation set:\", x_val.shape[0])\n",
        "\n",
        "# Survivied and not survived\n",
        "print('\\n')\n",
        "print('No of survived and not survived in training set:')\n",
        "print(y_train.value_counts())\n",
        "\n",
        "print('\\n')\n",
        "print('No. of survived and not-survived in validation set:')\n",
        "print(y_val.value_counts())\n",
        "\n"
      ],
      "execution_count": 55,
      "outputs": [
        {
          "output_type": "stream",
          "text": [
            "No. of samples in training set: 623\n",
            "No of samples in validation set: 268\n",
            "\n",
            "\n",
            "No of survived and not survived in training set:\n",
            "Not_survived    373\n",
            "Survived        250\n",
            "Name: Survived, dtype: int64\n",
            "\n",
            "\n",
            "No. of survived and not-survived in validation set:\n",
            "Not_survived    176\n",
            "Survived         92\n",
            "Name: Survived, dtype: int64\n"
          ],
          "name": "stdout"
        }
      ]
    },
    {
      "cell_type": "markdown",
      "metadata": {
        "id": "2y3y5_tzVgDt",
        "colab_type": "text"
      },
      "source": [
        "MODEL TRAINING AND EVALUATION VISUALIZATION"
      ]
    },
    {
      "cell_type": "code",
      "metadata": {
        "id": "hYuq55ovUKzN",
        "colab_type": "code",
        "colab": {}
      },
      "source": [
        "# Since the purpose of this project is to predict if the passenger has survived or not , its a classification problem.\n",
        "# There is a lof of algos that can be used to do classification modelling. Here we will use logostic reegression\n",
        "#There is also a lof of evaluation metrics you use to evaluate your model for classification problem.Here I will use confusion metrics, precision,recall,F1 score and ROC curve.\n"
      ],
      "execution_count": 0,
      "outputs": []
    },
    {
      "cell_type": "code",
      "metadata": {
        "id": "DIgcRztnWa1k",
        "colab_type": "code",
        "outputId": "940b813c-cffa-41a1-d658-d637c132d3a0",
        "colab": {
          "base_uri": "https://localhost:8080/",
          "height": 433
        }
      },
      "source": [
        "# CONFUSION MMATRIX\n",
        "# with yellobrick we can create a visual confusion matrix that will allow us to easily see how well we were able to predict and compute our accuracy score\n",
        "\n",
        "from sklearn.linear_model import LogisticRegression\n",
        "from yellowbrick.classifier import ConfusionMatrix\n",
        "from yellowbrick.classifier import ROCAUC\n",
        "\n",
        "# Instantiate the classifier model\n",
        "model = LogisticRegression()\n",
        "\n",
        "# The confusion matrix visualizer taxes a model\n",
        "classes = ['Not_survived', 'Survived']\n",
        "cm = ConfusionMatrix(model, classes=classes, percent = False)\n",
        "\n",
        "# Fit fits the passed model. This is unnecessary if you pass the visualizer a pre-fitted model\n",
        "cm.fit(x_val, y_val)\n",
        "\n",
        "# To create the confusion matrix, we need some test data.  Score runs predict() on the data\n",
        "# and then creates the confusion _matrix from scikit learn.\n",
        "\n",
        "cm.score(x_val, y_val)\n",
        "\n",
        "# change fontsize of the labels in the figure\n",
        "for label in cm.ax.texts:\n",
        "    label.set_size(20)\n",
        "    \n",
        "cm.poof()"
      ],
      "execution_count": 56,
      "outputs": [
        {
          "output_type": "stream",
          "text": [
            "/usr/local/lib/python3.6/dist-packages/sklearn/linear_model/logistic.py:432: FutureWarning: Default solver will be changed to 'lbfgs' in 0.22. Specify a solver to silence this warning.\n",
            "  FutureWarning)\n"
          ],
          "name": "stderr"
        },
        {
          "output_type": "display_data",
          "data": {
            "image/png": "[encoded data removed]",
            "text/plain": [
              "<Figure size 720x360 with 1 Axes>"
            ]
          },
          "metadata": {
            "tags": []
          }
        }
      ]
    },
    {
      "cell_type": "code",
      "metadata": {
        "id": "496ikpjCZmmI",
        "colab_type": "code",
        "colab": {}
      },
      "source": [
        "# As we can see from confusion matrix the accuracy of the model is (160+67)/(160+25+16+67) = 84.70%\n",
        "# # the accuracy score is much higher than the random guess, which is 50.00%\n",
        "# it seems like our model worked pretty well which means we should use a machine learning algorithm to predictwho survived in this instance\n"
      ],
      "execution_count": 0,
      "outputs": []
    },
    {
      "cell_type": "markdown",
      "metadata": {
        "id": "uwwDHkdZ8s9_",
        "colab_type": "text"
      },
      "source": [
        "PRECISION, RECALL AND F1 SCORE"
      ]
    },
    {
      "cell_type": "code",
      "metadata": {
        "id": "m80hn_taCAW-",
        "colab_type": "code",
        "colab": {
          "base_uri": "https://localhost:8080/",
          "height": 70
        },
        "outputId": "460c397a-cfd1-4b3f-a47b-ac94d39762ba"
      },
      "source": [
        "pip install classificationReport"
      ],
      "execution_count": 67,
      "outputs": [
        {
          "output_type": "stream",
          "text": [
            "Collecting classificationReport\n",
            "\u001b[31m  ERROR: Could not find a version that satisfies the requirement classificationReport (from versions: none)\u001b[0m\n",
            "\u001b[31mERROR: No matching distribution found for classificationReport\u001b[0m\n"
          ],
          "name": "stdout"
        }
      ]
    },
    {
      "cell_type": "code",
      "metadata": {
        "id": "aTA32dyxaq-q",
        "colab_type": "code",
        "colab": {
          "base_uri": "https://localhost:8080/",
          "height": 381
        },
        "outputId": "4b69acb0-12e8-4687-daf7-aa41a31a9074"
      },
      "source": [
        "# we can visually generate a classification report, which includes precision, recall and F1 score for our classification model\n",
        "# set the size of figure and font size\n",
        "from sklearn.metrics import classificationReport\n",
        "%matplotlib inline\n",
        "plt.rcParams['figure.figsize'] = (15,7)\n",
        "plt.rcParams['font.size'] = 20\n",
        "\n",
        "# Initiate the visualizer \n",
        "visualizer = ClassificationReport(model, classes=classes)\n",
        "\n",
        "visualizer.fit(x_train, y_train)  # fit the training data to the visualizer\n",
        "visualizer.score(x_val, y_val) # evaluate the model on the test data\n",
        "g = visualizer.poof()"
      ],
      "execution_count": 65,
      "outputs": [
        {
          "output_type": "error",
          "ename": "ImportError",
          "evalue": "ignored",
          "traceback": [
            "\u001b[0;31m---------------------------------------------------------------------------\u001b[0m",
            "\u001b[0;31mImportError\u001b[0m                               Traceback (most recent call last)",
            "\u001b[0;32m<ipython-input-65-ca67f37212db>\u001b[0m in \u001b[0;36m<module>\u001b[0;34m()\u001b[0m\n\u001b[0;32m----> 1\u001b[0;31m \u001b[0;32mfrom\u001b[0m \u001b[0msklearn\u001b[0m\u001b[0;34m.\u001b[0m\u001b[0mmetrics\u001b[0m \u001b[0;32mimport\u001b[0m \u001b[0mclassificationReport\u001b[0m\u001b[0;34m\u001b[0m\u001b[0;34m\u001b[0m\u001b[0m\n\u001b[0m\u001b[1;32m      2\u001b[0m \u001b[0mget_ipython\u001b[0m\u001b[0;34m(\u001b[0m\u001b[0;34m)\u001b[0m\u001b[0;34m.\u001b[0m\u001b[0mmagic\u001b[0m\u001b[0;34m(\u001b[0m\u001b[0;34m'matplotlib inline'\u001b[0m\u001b[0;34m)\u001b[0m\u001b[0;34m\u001b[0m\u001b[0;34m\u001b[0m\u001b[0m\n\u001b[1;32m      3\u001b[0m \u001b[0mplt\u001b[0m\u001b[0;34m.\u001b[0m\u001b[0mrcParams\u001b[0m\u001b[0;34m[\u001b[0m\u001b[0;34m'figure.figsize'\u001b[0m\u001b[0;34m]\u001b[0m \u001b[0;34m=\u001b[0m \u001b[0;34m(\u001b[0m\u001b[0;36m15\u001b[0m\u001b[0;34m,\u001b[0m\u001b[0;36m7\u001b[0m\u001b[0;34m)\u001b[0m\u001b[0;34m\u001b[0m\u001b[0;34m\u001b[0m\u001b[0m\n\u001b[1;32m      4\u001b[0m \u001b[0mplt\u001b[0m\u001b[0;34m.\u001b[0m\u001b[0mrcParams\u001b[0m\u001b[0;34m[\u001b[0m\u001b[0;34m'font.size'\u001b[0m\u001b[0;34m]\u001b[0m \u001b[0;34m=\u001b[0m \u001b[0;36m20\u001b[0m\u001b[0;34m\u001b[0m\u001b[0;34m\u001b[0m\u001b[0m\n\u001b[1;32m      5\u001b[0m \u001b[0;34m\u001b[0m\u001b[0m\n",
            "\u001b[0;31mImportError\u001b[0m: cannot import name 'classificationReport'",
            "",
            "\u001b[0;31m---------------------------------------------------------------------------\u001b[0;32m\nNOTE: If your import is failing due to a missing package, you can\nmanually install dependencies using either !pip or !apt.\n\nTo view examples of installing some common dependencies, click the\n\"Open Examples\" button below.\n\u001b[0;31m---------------------------------------------------------------------------\u001b[0m\n"
          ]
        }
      ]
    },
    {
      "cell_type": "code",
      "metadata": {
        "id": "CAxGGiRcLaLg",
        "colab_type": "code",
        "colab": {
          "base_uri": "https://localhost:8080/",
          "height": 492
        },
        "outputId": "cb10960d-933c-4060-dfc5-49f0b907390c"
      },
      "source": [
        "# ROC CURVE AND AUC\n",
        "# IN ADDITION WITH THE PREVIOUS 2 METHODS we can also evaluateour classification model using ROC curve for each class\n",
        "\n",
        "# Instantiate the visualizer\n",
        "visualizer = ROCAUC(model)\n",
        "visualizer.fit(x_train, y_train) # fit the training data to the visualizer\n",
        "visualizer.score(x_val, y_val) # evaluate the model on the tesr data\n",
        "\n",
        "g = visualizer.poof() \n",
        "\n",
        "\n",
        "# in ROC CURVE above the dotted diagonal line in the pictures shows when the result is randomly guessed . A good model shoul be above that line\n"
      ],
      "execution_count": 69,
      "outputs": [
        {
          "output_type": "stream",
          "text": [
            "/usr/local/lib/python3.6/dist-packages/sklearn/linear_model/logistic.py:432: FutureWarning: Default solver will be changed to 'lbfgs' in 0.22. Specify a solver to silence this warning.\n",
            "  FutureWarning)\n"
          ],
          "name": "stderr"
        },
        {
          "output_type": "display_data",
          "data": {
            "image/png": "[encoded data removed]",
            "text/plain": [
              "<Figure size 1080x504 with 1 Axes>"
            ]
          },
          "metadata": {
            "tags": []
          }
        }
      ]
    }
  ]
}